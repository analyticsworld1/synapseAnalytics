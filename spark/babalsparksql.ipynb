{
  "cells": [
    {
      "cell_type": "code",
      "execution_count": 3,
      "metadata": {},
      "outputs": [
        {
          "data": {
            "text/plain": [
              "'2.4.4.2.6.99.201-SNAPSHOT'"
            ]
          },
          "execution_count": 3,
          "metadata": {},
          "output_type": "execute_result"
        }
      ],
      "source": [
        "sc.version"
      ]
    },
    {
      "cell_type": "code",
      "execution_count": 4,
      "metadata": {},
      "outputs": [
        {
          "data": {
            "text/plain": [
              "import org.apache.spark.sql._\n",
              "import org.apache.spark.sql.functions._"
            ]
          },
          "execution_count": 4,
          "metadata": {},
          "output_type": "execute_result"
        }
      ],
      "source": [
        "import org.apache.spark.sql._\n",
        "import org.apache.spark.sql.functions._"
      ]
    },
    {
      "cell_type": "code",
      "execution_count": 5,
      "metadata": {},
      "outputs": [
        {
          "data": {
            "text/plain": [
              "yellowdf: org.apache.spark.sql.DataFrame = [vendorID: string, tpepPickupDateTime: timestamp ... 21 more fields]"
            ]
          },
          "execution_count": 5,
          "metadata": {},
          "output_type": "execute_result"
        }
      ],
      "source": [
        "val yellowdf = spark.read.option(\"header\",\"true\").option(\"inferSchema\",\"true\").parquet(\"abfss://opendataset@internalsandboxwe.dfs.core.windows.net/nyctlc/yellow/\")"
      ]
    },
    {
      "cell_type": "code",
      "execution_count": null,
      "metadata": {},
      "outputs": [],
      "source": [
        "val df1 = yellowdf.withColumn(\"Date\", (col(\"tpepPickupDateTime\").cast(\"date\")))\n",
        "display(df1)"
      ]
    },
    {
      "cell_type": "code",
      "execution_count": null,
      "metadata": {},
      "outputs": [],
      "source": [
        "df1.createOrReplaceTempView(\"taxidata\")"
      ]
    },
    {
      "cell_type": "code",
      "execution_count": null,
      "metadata": {},
      "outputs": [],
      "source": [
        "%%sql\n",
        "select * from taxidata limit 10\n"
      ]
    },
    {
      "cell_type": "code",
      "execution_count": null,
      "metadata": {},
      "outputs": [],
      "source": [
        "%%sql\n",
        "select vendorID, count(*) as reccount, sum(totalAmount) as Total, avg(totalAmount) as Avg from taxidata group by vendorID"
      ]
    }
  ],
  "metadata": {
    "language_info": {
      "name": "scala"
    },
    "saveOutput": true
  },
  "nbformat": 4,
  "nbformat_minor": 2
}
