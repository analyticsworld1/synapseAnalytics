{
  "cells": [
    {
      "cell_type": "code",
      "execution_count": 3,
      "metadata": {},
      "outputs": [
        {
          "ename": "ModuleNotFoundError",
          "evalue": "No module named 'keras'",
          "output_type": "error",
          "traceback": [
            "ModuleNotFoundError : No module named 'keras'",
            "Traceback (most recent call last):\n",
            "ModuleNotFoundError: No module named 'keras'\n"
          ]
        }
      ],
      "source": [
        "from __future__ import print_function\n",
        "import keras\n",
        "from keras.datasets import mnist\n",
        "from keras.models import Sequential\n",
        "from keras.layers import Dense, Dropout, Flatten\n",
        "from keras.layers import Conv2D, MaxPooling2D\n",
        "from keras import backend as K"
      ]
    },
    {
      "cell_type": "code",
      "execution_count": null,
      "metadata": {},
      "outputs": [],
      "source": [
        "# the data, shuffled and split between train and test sets\n",
        "(x_train, y_train), (x_test, y_test) = mnist.load_data()"
      ]
    },
    {
      "cell_type": "code",
      "execution_count": 4,
      "metadata": {},
      "outputs": [],
      "source": [
        "def generate_random_walk():\n",
        "    \"\"\"\n",
        "    Generates a single walk\n",
        "    :return: array of states (strings)\n",
        "    \"\"\"\n",
        "    terminal_states = {'A', 'G'}\n",
        "    choices = {\n",
        "        'B': ['A', 'C'],\n",
        "        'C': ['B', 'D'],\n",
        "        'D': ['C', 'E'],\n",
        "        'E': ['D', 'F'],\n",
        "        'F': ['E', 'G']\n",
        "    }\n",
        "\n",
        "    # Start at state D\n",
        "    sequence = ['D']\n",
        "\n",
        "    while sequence[-1] not in terminal_states:\n",
        "        next_state = random.choice(choices[sequence[-1]])\n",
        "        sequence.append(next_state)\n",
        "\n",
        "    return sequence"
      ]
    },
    {
      "cell_type": "code",
      "execution_count": 5,
      "metadata": {},
      "outputs": [],
      "source": [
        "\n",
        "def test_random_walk():\n",
        "    random.seed()\n",
        "    walks = [generate_random_walk() for _ in range(1000)]\n",
        "    all_first = all((walk[0] == 'D' for walk in walks))\n",
        "    all_last = all((walk[-1] in {'A', 'G'} for walk in walks))\n",
        "    all_len = all((len(walk) >= 4 for walk in walks))\n",
        "    all_middle = all((all([w not in {'A', 'G'} for w in walk[1:-1]]) for walk in walks))\n",
        "    actual = all([all_first, all_last, all_len, all_middle])\n",
        "    expected = True\n",
        "    assert expected == actual\n",
        "    print('✓ All tests successful')"
      ]
    },
    {
      "cell_type": "code",
      "execution_count": 7,
      "metadata": {},
      "outputs": [],
      "source": [
        "import random"
      ]
    },
    {
      "cell_type": "code",
      "execution_count": 8,
      "metadata": {},
      "outputs": [
        {
          "data": {
            "text/plain": [
              "✓ All tests successful"
            ]
          },
          "execution_count": 8,
          "metadata": {},
          "output_type": "execute_result"
        }
      ],
      "source": [
        "test_random_walk()"
      ]
    },
    {
      "cell_type": "code",
      "execution_count": 9,
      "metadata": {},
      "outputs": [],
      "source": [
        "def process_walk(walk, weights, alpha, lambda_, terminal_states):\n",
        "    \"\"\"\n",
        "    Calculate changes in weights (dw) for a single walk\n",
        "    :param walk: sequence of states\n",
        "    :param weights: current value of weights\n",
        "    :param alpha: learning rate\n",
        "    :param lambda_: \n",
        "    :param dict of (terminal state, reward)'s\n",
        "    :return: dw (dict)\n",
        "    \"\"\"\n",
        "    \n",
        "    def _clip(x, max_=1, min_=0):\n",
        "        return max(min_, min(x, max_))\n",
        "    \n",
        "    def _p(w, state):\n",
        "        # P_t\n",
        "        return _clip(w[state])\n",
        "\n",
        "    def _p_next(w, state):\n",
        "        # P_t+1\n",
        "        if state in terminal_states:\n",
        "            return terminal_states[state]\n",
        "        else:\n",
        "            return _clip(_p(w, state))\n",
        "        \n",
        "    def _add_dictionaries(a, b):\n",
        "        \"\"\"\n",
        "        Adds two dictionaries and returns a new dict \n",
        "        :param a: first dict\n",
        "        :param b: second dict\n",
        "        :return: new dictionary with common keys added and non-common keys from both dictionaries present\n",
        "        \"\"\"\n",
        "        return {k: a.get(k, 0) + b.get(k, 0) for k in set(a) | set(b)}\n",
        "    \n",
        "    def _get_delta_w(walk, t_index, error, alpha, lambda_):\n",
        "        \"\"\"\n",
        "        Calculate delta_w vector\n",
        "        :param walk: array of states/strings\n",
        "        :param t_index: t\n",
        "        :param error: P_t+1 - P_t\n",
        "        :param alpha: learning rate\n",
        "        :param lambda_: of TD(lambda)\n",
        "        :return: delta_w (dict)\n",
        "        \"\"\"\n",
        "        # Vector of delta_w's (by state)\n",
        "        states_vector = defaultdict(float)\n",
        "\n",
        "        # This is the sum over k=1 to t_index of lambda ** (t_index -k) in equation 4\n",
        "        for k in range(t_index + 1):\n",
        "            state_at_k = walk[k]\n",
        "            lambda_to_the_power = lambda_ ** (t_index - k)\n",
        "            if lambda_to_the_power > 0:\n",
        "                states_vector[state_at_k] += alpha * error * lambda_to_the_power\n",
        "\n",
        "        # Equation 4\n",
        "        result = {state: states_vector[state] for state in states_vector}\n",
        "        return result\n",
        "    \n",
        "    # Δw\n",
        "    dw = defaultdict(float)\n",
        "\n",
        "    # Go all the way up to (not including) the terminal state\n",
        "    for t_index in range(len(walk) - 1):\n",
        "        state_current = walk[t_index]\n",
        "        state_next = walk[t_index + 1]\n",
        "        p_t = _p(weights, state_current)\n",
        "        p_t_plus1 = _p_next(weights, state_next)\n",
        "        error = p_t_plus1 - p_t\n",
        "        dw_t = _get_delta_w(walk, t_index, error, alpha, lambda_)\n",
        "\n",
        "        # Add the current state t's Δw_t to the overall Δw\n",
        "        dw = _add_dictionaries(dw, dw_t)\n",
        "\n",
        "    return dw"
      ]
    },
    {
      "cell_type": "code",
      "execution_count": 10,
      "metadata": {},
      "outputs": [
        {
          "data": {
            "text/plain": [
              "{'B': 0.5, 'C': 0.5, 'D': 0.5, 'E': 0.5, 'F': 0.5}"
            ]
          },
          "execution_count": 10,
          "metadata": {},
          "output_type": "execute_result"
        }
      ],
      "source": [
        "weight_initial = 0.5\n",
        "terminal_states = {'A': 0, 'G': 1}\n",
        "weights_initial = {state: weight_initial for state in 'BCDEF'}\n",
        "weights_initial"
      ]
    },
    {
      "cell_type": "code",
      "execution_count": 11,
      "metadata": {},
      "outputs": [],
      "source": [
        "# Sample walks\n",
        "walk_right = ['D', 'E', 'F', 'G']\n",
        "walk_left  = ['D', 'C', 'B', 'A']"
      ]
    },
    {
      "cell_type": "code",
      "execution_count": 17,
      "metadata": {},
      "outputs": [],
      "source": [
        "import pyspark.sql.functions\n",
        "#import sqlContext.implicits._\n",
        "#https://github.com/amirziai/learning/blob/master/reinforcement-learning/TD-lambda-for-bounded-random-walk.ipynb"
      ]
    },
    {
      "cell_type": "code",
      "execution_count": 18,
      "metadata": {},
      "outputs": [
        {
          "ename": "NameError",
          "evalue": "name 'partial' is not defined",
          "output_type": "error",
          "traceback": [
            "NameError : name 'partial' is not defined",
            "Traceback (most recent call last):\n",
            "NameError: name 'partial' is not defined\n"
          ]
        }
      ],
      "source": [
        "process_walk_partial = partial(process_walk,\n",
        "                               weights=weights_initial,\n",
        "                               terminal_states=terminal_states)"
      ]
    },
    {
      "cell_type": "code",
      "execution_count": 13,
      "metadata": {},
      "outputs": [
        {
          "ename": "NameError",
          "evalue": "name 'process_walk_partial' is not defined",
          "output_type": "error",
          "traceback": [
            "NameError : name 'process_walk_partial' is not defined",
            "Traceback (most recent call last):\n",
            "NameError: name 'process_walk_partial' is not defined\n"
          ]
        }
      ],
      "source": [
        "# With λ=0 we're only updating the step\n",
        "process_walk_partial(walk=walk_right, alpha=0.01, lambda_=0)"
      ]
    }
  ],
  "metadata": {
    "language_info": {
      "name": "python"
    },
    "saveOutput": true
  },
  "nbformat": 4,
  "nbformat_minor": 2
}
