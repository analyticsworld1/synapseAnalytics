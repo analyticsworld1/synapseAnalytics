{
  "cells": [
    {
      "cell_type": "code",
      "execution_count": 5,
      "metadata": {},
      "outputs": [
        {
          "data": {
            "text/plain": [
              "import scala.collection.JavaConverters._\n",
              "import java.util.concurrent._\n",
              "import scala.collection.immutable._\n",
              "import scala.concurrent.Future\n",
              "import scala.concurrent.ExecutionContext.Implicits.global\n",
              "import org.apache.spark.sql._\n",
              "import org.apache.spark.sql.functions._\n",
              "import org.apache.spark.sql.types._\n",
              "import org.apache.spark.sql.functions._\n",
              "import org.apache.spark.sql.functions._"
            ]
          },
          "execution_count": 5,
          "metadata": {},
          "output_type": "execute_result"
        }
      ],
      "source": [
        "import scala.collection.JavaConverters._\n",
        "import java.util.concurrent._\n",
        "import scala.collection.immutable._\n",
        "import scala.concurrent.Future\n",
        "import scala.concurrent.ExecutionContext.Implicits.global\n",
        "import org.apache.spark.sql._ \n",
        "import org.apache.spark.sql.functions._\n",
        "import org.apache.spark.sql.types._\n",
        "import org.apache.spark.sql.functions._\n",
        "import org.apache.spark.sql.functions._"
      ]
    },
    {
      "cell_type": "code",
      "execution_count": 6,
      "metadata": {},
      "outputs": [],
      "source": [
        "spark.conf.set(   \"fs.azure.account.key.waginput.blob.core.windows.net\", \"TBwLoPOLim87APX5grtZzWy8Td9h69F/BJgDxuiQyEP480Cs5zyOa2bUeVVRfUnCALOug3aA2Wb4cj8aIiqGEw==\")"
      ]
    },
    {
      "cell_type": "code",
      "execution_count": 9,
      "metadata": {},
      "outputs": [
        {
          "data": {
            "text/plain": [
              "dfyellow: org.apache.spark.sql.DataFrame = [vendorID: string, tpepPickupDateTime: timestamp ... 19 more fields]"
            ]
          },
          "execution_count": 9,
          "metadata": {},
          "output_type": "execute_result"
        }
      ],
      "source": [
        "val dfyellow = spark.read.option(\"header\",\"true\").option(\"inferSchema\",\"true\").parquet(\"wasbs://opendataset@waginput.blob.core.windows.net/nyctlc/yellow/*/*/\")"
      ]
    },
    {
      "cell_type": "code",
      "execution_count": 15,
      "metadata": {},
      "outputs": [
        {
          "data": {
            "text/plain": [
              "dfyellow: org.apache.spark.sql.DataFrame = [eventdatetime: timestamp, customername: string ... 5 more fields]"
            ]
          },
          "execution_count": 15,
          "metadata": {},
          "output_type": "execute_result"
        }
      ],
      "source": [
        "val dfyellow = spark.read.option(\"header\",\"true\").option(\"inferSchema\",\"true\").csv(\"wasbs://ididims@waginput.blob.core.windows.net/productdim.csv\")"
      ]
    },
    {
      "cell_type": "code",
      "execution_count": 16,
      "metadata": {},
      "outputs": [
        {
          "data": {
            "application/json": {
              "rows": [
                [
                  "2020-02-26T15:56:52.064Z",
                  "idicustomer 11",
                  "1435 Lake cook rd",
                  "deerfield",
                  "IL",
                  60015,
                  "product 11"
                ],
                [
                  "2020-02-26T17:14:42.874Z",
                  "idicustomer 6",
                  "1435 Lake cook rd",
                  "deerfield",
                  "IL",
                  60015,
                  "product 6"
                ],
                [
                  "2020-02-26T16:04:28.289Z",
                  "idicustomer 0",
                  "1435 Lake cook rd",
                  "deerfield",
                  "IL",
                  60015,
                  "product 0"
                ],
                [
                  "2020-02-26T17:07:08.435Z",
                  "idicustomer 31",
                  "1435 Lake cook rd",
                  "deerfield",
                  "IL",
                  60015,
                  "product 31"
                ],
                [
                  "2020-02-26T15:46:43.191Z",
                  "idicustomer 86",
                  "1435 Lake cook rd",
                  "deerfield",
                  "IL",
                  60015,
                  "product 86"
                ],
                [
                  "2020-02-26T17:30:43.931Z",
                  "idicustomer 91",
                  "1435 Lake cook rd",
                  "deerfield",
                  "IL",
                  60015,
                  "product 91"
                ],
                [
                  "2020-02-26T15:57:10.408Z",
                  "idicustomer 66",
                  "1435 Lake cook rd",
                  "deerfield",
                  "IL",
                  60015,
                  "product 66"
                ],
                [
                  "2020-02-26T17:48:08.953Z",
                  "idicustomer 61",
                  "1435 Lake cook rd",
                  "deerfield",
                  "IL",
                  60015,
                  "product 61"
                ],
                [
                  "2020-02-26T15:46:37.847Z",
                  "idicustomer 12",
                  "1435 Lake cook rd",
                  "deerfield",
                  "IL",
                  60015,
                  "product 12"
                ],
                [
                  "2020-02-26T17:33:13.019Z",
                  "idicustomer 7",
                  "1435 Lake cook rd",
                  "deerfield",
                  "IL",
                  60015,
                  "product 7"
                ],
                [
                  "2020-02-26T16:46:27.665Z",
                  "idicustomer 71",
                  "1435 Lake cook rd",
                  "deerfield",
                  "IL",
                  60015,
                  "product 71"
                ],
                [
                  "2020-02-26T17:16:31.131Z",
                  "idicustomer 32",
                  "1435 Lake cook rd",
                  "deerfield",
                  "IL",
                  60015,
                  "product 32"
                ],
                [
                  "2020-02-26T16:50:35.071Z",
                  "idicustomer 87",
                  "1435 Lake cook rd",
                  "deerfield",
                  "IL",
                  60015,
                  "product 87"
                ],
                [
                  "2020-02-26T17:40:35.282Z",
                  "idicustomer 92",
                  "1435 Lake cook rd",
                  "deerfield",
                  "IL",
                  60015,
                  "product 92"
                ],
                [
                  "2020-02-26T16:06:13.514Z",
                  "idicustomer 67",
                  "1435 Lake cook rd",
                  "deerfield",
                  "IL",
                  60015,
                  "product 67"
                ],
                [
                  "2020-02-26T17:59:19.001Z",
                  "idicustomer 62",
                  "1435 Lake cook rd",
                  "deerfield",
                  "IL",
                  60015,
                  "product 62"
                ],
                [
                  "2020-02-26T15:59:35.426Z",
                  "idicustomer 13",
                  "1435 Lake cook rd",
                  "deerfield",
                  "IL",
                  60015,
                  "product 13"
                ],
                [
                  "2020-02-26T17:46:34.167Z",
                  "idicustomer 8",
                  "1435 Lake cook rd",
                  "deerfield",
                  "IL",
                  60015,
                  "product 8"
                ],
                [
                  "2020-02-26T16:56:28.908Z",
                  "idicustomer 72",
                  "1435 Lake cook rd",
                  "deerfield",
                  "IL",
                  60015,
                  "product 72"
                ],
                [
                  "2020-02-26T17:27:11.874Z",
                  "idicustomer 33",
                  "1435 Lake cook rd",
                  "deerfield",
                  "IL",
                  60015,
                  "product 33"
                ],
                [
                  "2020-02-26T16:59:52.014Z",
                  "idicustomer 88",
                  "1435 Lake cook rd",
                  "deerfield",
                  "IL",
                  60015,
                  "product 88"
                ],
                [
                  "2020-02-26T17:53:52.405Z",
                  "idicustomer 93",
                  "1435 Lake cook rd",
                  "deerfield",
                  "IL",
                  60015,
                  "product 93"
                ],
                [
                  "2020-02-26T15:44:07.072Z",
                  "idicustomer 68",
                  "1435 Lake cook rd",
                  "deerfield",
                  "IL",
                  60015,
                  "product 68"
                ],
                [
                  "2020-02-26T18:08:39.002Z",
                  "idicustomer 63",
                  "1435 Lake cook rd",
                  "deerfield",
                  "IL",
                  60015,
                  "product 63"
                ],
                [
                  "2020-02-26T16:09:11.955Z",
                  "idicustomer 14",
                  "1435 Lake cook rd",
                  "deerfield",
                  "IL",
                  60015,
                  "product 14"
                ],
                [
                  "2020-02-26T17:56:32.256Z",
                  "idicustomer 9",
                  "1435 Lake cook rd",
                  "deerfield",
                  "IL",
                  60015,
                  "product 9"
                ],
                [
                  "2020-02-26T17:06:15.553Z",
                  "idicustomer 73",
                  "1435 Lake cook rd",
                  "deerfield",
                  "IL",
                  60015,
                  "product 73"
                ],
                [
                  "2020-02-26T15:52:21.536Z",
                  "idicustomer 34",
                  "1435 Lake cook rd",
                  "deerfield",
                  "IL",
                  60015,
                  "product 34"
                ],
                [
                  "2020-02-26T17:09:33.312Z",
                  "idicustomer 89",
                  "1435 Lake cook rd",
                  "deerfield",
                  "IL",
                  60015,
                  "product 89"
                ],
                [
                  "2020-02-26T18:04:42.348Z",
                  "idicustomer 94",
                  "1435 Lake cook rd",
                  "deerfield",
                  "IL",
                  60015,
                  "product 94"
                ],
                [
                  "2020-02-26T16:24:29.833Z",
                  "idicustomer 69",
                  "1435 Lake cook rd",
                  "deerfield",
                  "IL",
                  60015,
                  "product 69"
                ],
                [
                  "2020-02-26T18:20:22.016Z",
                  "idicustomer 64",
                  "1435 Lake cook rd",
                  "deerfield",
                  "IL",
                  60015,
                  "product 64"
                ],
                [
                  "2020-02-26T16:20:14.507Z",
                  "idicustomer 15",
                  "1435 Lake cook rd",
                  "deerfield",
                  "IL",
                  60015,
                  "product 15"
                ],
                [
                  "2020-02-26T18:12:04.619Z",
                  "idicustomer 10",
                  "1435 Lake cook rd",
                  "deerfield",
                  "IL",
                  60015,
                  "product 10"
                ],
                [
                  "2020-02-26T15:50:09.631Z",
                  "idicustomer 74",
                  "1435 Lake cook rd",
                  "deerfield",
                  "IL",
                  60015,
                  "product 74"
                ],
                [
                  "2020-02-26T17:47:50.346Z",
                  "idicustomer 35",
                  "1435 Lake cook rd",
                  "deerfield",
                  "IL",
                  60015,
                  "product 35"
                ],
                [
                  "2020-02-26T17:21:35.473Z",
                  "idicustomer 90",
                  "1435 Lake cook rd",
                  "deerfield",
                  "IL",
                  60015,
                  "product 90"
                ],
                [
                  "2020-02-26T18:19:31.881Z",
                  "idicustomer 95",
                  "1435 Lake cook rd",
                  "deerfield",
                  "IL",
                  60015,
                  "product 95"
                ],
                [
                  "2020-02-26T16:35:35.885Z",
                  "idicustomer 70",
                  "1435 Lake cook rd",
                  "deerfield",
                  "IL",
                  60015,
                  "product 70"
                ],
                [
                  "2020-02-26T15:42:50.453Z",
                  "idicustomer 65",
                  "1435 Lake cook rd",
                  "deerfield",
                  "IL",
                  60015,
                  "product 65"
                ],
                [
                  "2020-02-26T15:50:52.226Z",
                  "idicustomer 81",
                  "1435 Lake cook rd",
                  "deerfield",
                  "IL",
                  60015,
                  "product 81"
                ],
                [
                  "2020-02-26T15:42:46.921Z",
                  "idicustomer 26",
                  "1435 Lake cook rd",
                  "deerfield",
                  "IL",
                  60015,
                  "product 26"
                ],
                [
                  "2020-02-26T17:25:15.583Z",
                  "idicustomer 75",
                  "1435 Lake cook rd",
                  "deerfield",
                  "IL",
                  60015,
                  "product 75"
                ],
                [
                  "2020-02-26T18:22:07.754Z",
                  "idicustomer 51",
                  "1435 Lake cook rd",
                  "deerfield",
                  "IL",
                  60015,
                  "product 51"
                ],
                [
                  "2020-02-26T16:38:43.974Z",
                  "idicustomer 56",
                  "1435 Lake cook rd",
                  "deerfield",
                  "IL",
                  60015,
                  "product 56"
                ],
                [
                  "2020-02-26T17:59:29.169Z",
                  "idicustomer 36",
                  "1435 Lake cook rd",
                  "deerfield",
                  "IL",
                  60015,
                  "product 36"
                ],
                [
                  "2020-02-26T16:14:35.847Z",
                  "idicustomer 41",
                  "1435 Lake cook rd",
                  "deerfield",
                  "IL",
                  60015,
                  "product 41"
                ],
                [
                  "2020-02-26T17:39:42.597Z",
                  "idicustomer 21",
                  "1435 Lake cook rd",
                  "deerfield",
                  "IL",
                  60015,
                  "product 21"
                ],
                [
                  "2020-02-26T16:01:55.142Z",
                  "idicustomer 82",
                  "1435 Lake cook rd",
                  "deerfield",
                  "IL",
                  60015,
                  "product 82"
                ],
                [
                  "2020-02-26T16:13:54.132Z",
                  "idicustomer 27",
                  "1435 Lake cook rd",
                  "deerfield",
                  "IL",
                  60015,
                  "product 27"
                ],
                [
                  "2020-02-26T16:14:15.139Z",
                  "idicustomer 1",
                  "1435 Lake cook rd",
                  "deerfield",
                  "IL",
                  60015,
                  "product 1"
                ],
                [
                  "2020-02-26T15:48:37.241Z",
                  "idicustomer 52",
                  "1435 Lake cook rd",
                  "deerfield",
                  "IL",
                  60015,
                  "product 52"
                ],
                [
                  "2020-02-26T15:41:18.437Z",
                  "idicustomer 57",
                  "1435 Lake cook rd",
                  "deerfield",
                  "IL",
                  60015,
                  "product 57"
                ],
                [
                  "2020-02-26T15:42:10.931Z",
                  "idicustomer 37",
                  "1435 Lake cook rd",
                  "deerfield",
                  "IL",
                  60015,
                  "product 37"
                ],
                [
                  "2020-02-26T16:25:47.371Z",
                  "idicustomer 42",
                  "1435 Lake cook rd",
                  "deerfield",
                  "IL",
                  60015,
                  "product 42"
                ],
                [
                  "2020-02-26T17:51:43.394Z",
                  "idicustomer 22",
                  "1435 Lake cook rd",
                  "deerfield",
                  "IL",
                  60015,
                  "product 22"
                ],
                [
                  "2020-02-26T16:11:52.374Z",
                  "idicustomer 83",
                  "1435 Lake cook rd",
                  "deerfield",
                  "IL",
                  60015,
                  "product 83"
                ],
                [
                  "2020-02-26T16:23:11.711Z",
                  "idicustomer 28",
                  "1435 Lake cook rd",
                  "deerfield",
                  "IL",
                  60015,
                  "product 28"
                ],
                [
                  "2020-02-26T15:45:04.784Z",
                  "idicustomer 2",
                  "1435 Lake cook rd",
                  "deerfield",
                  "IL",
                  60015,
                  "product 2"
                ],
                [
                  "2020-02-26T15:59:47.648Z",
                  "idicustomer 53",
                  "1435 Lake cook rd",
                  "deerfield",
                  "IL",
                  60015,
                  "product 53"
                ],
                [
                  "2020-02-26T16:58:02.416Z",
                  "idicustomer 58",
                  "1435 Lake cook rd",
                  "deerfield",
                  "IL",
                  60015,
                  "product 58"
                ],
                [
                  "2020-02-26T15:41:35.142Z",
                  "idicustomer 38",
                  "1435 Lake cook rd",
                  "deerfield",
                  "IL",
                  60015,
                  "product 38"
                ],
                [
                  "2020-02-26T16:35:47.027Z",
                  "idicustomer 43",
                  "1435 Lake cook rd",
                  "deerfield",
                  "IL",
                  60015,
                  "product 43"
                ],
                [
                  "2020-02-26T18:14:13.166Z",
                  "idicustomer 23",
                  "1435 Lake cook rd",
                  "deerfield",
                  "IL",
                  60015,
                  "product 23"
                ],
                [
                  "2020-02-26T15:44:54.207Z",
                  "idicustomer 84",
                  "1435 Lake cook rd",
                  "deerfield",
                  "IL",
                  60015,
                  "product 84"
                ],
                [
                  "2020-02-26T16:32:37.013Z",
                  "idicustomer 29",
                  "1435 Lake cook rd",
                  "deerfield",
                  "IL",
                  60015,
                  "product 29"
                ],
                [
                  "2020-02-26T16:34:59.029Z",
                  "idicustomer 3",
                  "1435 Lake cook rd",
                  "deerfield",
                  "IL",
                  60015,
                  "product 3"
                ],
                [
                  "2020-02-26T16:09:54.919Z",
                  "idicustomer 54",
                  "1435 Lake cook rd",
                  "deerfield",
                  "IL",
                  60015,
                  "product 54"
                ],
                [
                  "2020-02-26T17:07:32.957Z",
                  "idicustomer 59",
                  "1435 Lake cook rd",
                  "deerfield",
                  "IL",
                  60015,
                  "product 59"
                ],
                [
                  "2020-02-26T15:52:05.154Z",
                  "idicustomer 39",
                  "1435 Lake cook rd",
                  "deerfield",
                  "IL",
                  60015,
                  "product 39"
                ],
                [
                  "2020-02-26T15:47:13.975Z",
                  "idicustomer 44",
                  "1435 Lake cook rd",
                  "deerfield",
                  "IL",
                  60015,
                  "product 44"
                ],
                [
                  "2020-02-26T18:25:31.832Z",
                  "idicustomer 24",
                  "1435 Lake cook rd",
                  "deerfield",
                  "IL",
                  60015,
                  "product 24"
                ],
                [
                  "2020-02-26T16:32:05.287Z",
                  "idicustomer 85",
                  "1435 Lake cook rd",
                  "deerfield",
                  "IL",
                  60015,
                  "product 85"
                ],
                [
                  "2020-02-26T16:54:18.789Z",
                  "idicustomer 30",
                  "1435 Lake cook rd",
                  "deerfield",
                  "IL",
                  60015,
                  "product 30"
                ],
                [
                  "2020-02-26T15:47:07.735Z",
                  "idicustomer 4",
                  "1435 Lake cook rd",
                  "deerfield",
                  "IL",
                  60015,
                  "product 4"
                ],
                [
                  "2020-02-26T16:28:01.964Z",
                  "idicustomer 55",
                  "1435 Lake cook rd",
                  "deerfield",
                  "IL",
                  60015,
                  "product 55"
                ],
                [
                  "2020-02-26T17:20:21.725Z",
                  "idicustomer 60",
                  "1435 Lake cook rd",
                  "deerfield",
                  "IL",
                  60015,
                  "product 60"
                ],
                [
                  "2020-02-26T16:04:48.088Z",
                  "idicustomer 40",
                  "1435 Lake cook rd",
                  "deerfield",
                  "IL",
                  60015,
                  "product 40"
                ],
                [
                  "2020-02-26T16:56:04.981Z",
                  "idicustomer 45",
                  "1435 Lake cook rd",
                  "deerfield",
                  "IL",
                  60015,
                  "product 45"
                ],
                [
                  "2020-02-26T15:48:13.366Z",
                  "idicustomer 25",
                  "1435 Lake cook rd",
                  "deerfield",
                  "IL",
                  60015,
                  "product 25"
                ],
                [
                  "2020-02-26T17:34:46.592Z",
                  "idicustomer 76",
                  "1435 Lake cook rd",
                  "deerfield",
                  "IL",
                  60015,
                  "product 76"
                ],
                [
                  "2020-02-26T15:53:42.972Z",
                  "idicustomer 96",
                  "1435 Lake cook rd",
                  "deerfield",
                  "IL",
                  60015,
                  "product 96"
                ],
                [
                  "2020-02-26T17:02:12.471Z",
                  "idicustomer 5",
                  "1435 Lake cook rd",
                  "deerfield",
                  "IL",
                  60015,
                  "product 5"
                ],
                [
                  "2020-02-26T17:14:05.482Z",
                  "idicustomer 46",
                  "1435 Lake cook rd",
                  "deerfield",
                  "IL",
                  60015,
                  "product 46"
                ],
                [
                  "2020-02-26T16:38:35.237Z",
                  "idicustomer 16",
                  "1435 Lake cook rd",
                  "deerfield",
                  "IL",
                  60015,
                  "product 16"
                ],
                [
                  "2020-02-26T17:46:02.749Z",
                  "idicustomer 77",
                  "1435 Lake cook rd",
                  "deerfield",
                  "IL",
                  60015,
                  "product 77"
                ],
                [
                  "2020-02-26T16:04:56.891Z",
                  "idicustomer 97",
                  "1435 Lake cook rd",
                  "deerfield",
                  "IL",
                  60015,
                  "product 97"
                ],
                [
                  "2020-02-26T17:27:32.955Z",
                  "idicustomer 47",
                  "1435 Lake cook rd",
                  "deerfield",
                  "IL",
                  60015,
                  "product 47"
                ],
                [
                  "2020-02-26T16:57:03.814Z",
                  "idicustomer 17",
                  "1435 Lake cook rd",
                  "deerfield",
                  "IL",
                  60015,
                  "product 17"
                ],
                [
                  "2020-02-26T15:55:03.277Z",
                  "idicustomer 78",
                  "1435 Lake cook rd",
                  "deerfield",
                  "IL",
                  60015,
                  "product 78"
                ],
                [
                  "2020-02-26T15:44:02.202Z",
                  "idicustomer 98",
                  "1435 Lake cook rd",
                  "deerfield",
                  "IL",
                  60015,
                  "product 98"
                ],
                [
                  "2020-02-26T17:47:55.224Z",
                  "idicustomer 48",
                  "1435 Lake cook rd",
                  "deerfield",
                  "IL",
                  60015,
                  "product 48"
                ],
                [
                  "2020-02-26T17:10:12.073Z",
                  "idicustomer 18",
                  "1435 Lake cook rd",
                  "deerfield",
                  "IL",
                  60015,
                  "product 18"
                ],
                [
                  "2020-02-26T18:14:24.266Z",
                  "idicustomer 79",
                  "1435 Lake cook rd",
                  "deerfield",
                  "IL",
                  60015,
                  "product 79"
                ],
                [
                  "2020-02-26T16:23:12.831Z",
                  "idicustomer 99",
                  "1435 Lake cook rd",
                  "deerfield",
                  "IL",
                  60015,
                  "product 99"
                ],
                [
                  "2020-02-26T17:59:25.095Z",
                  "idicustomer 49",
                  "1435 Lake cook rd",
                  "deerfield",
                  "IL",
                  60015,
                  "product 49"
                ],
                [
                  "2020-02-26T17:19:57.264Z",
                  "idicustomer 19",
                  "1435 Lake cook rd",
                  "deerfield",
                  "IL",
                  60015,
                  "product 19"
                ],
                [
                  "2020-02-26T15:41:05.195Z",
                  "idicustomer 80",
                  "1435 Lake cook rd",
                  "deerfield",
                  "IL",
                  60015,
                  "product 80"
                ],
                [
                  "2020-02-26T18:08:48.818Z",
                  "idicustomer 50",
                  "1435 Lake cook rd",
                  "deerfield",
                  "IL",
                  60015,
                  "product 50"
                ],
                [
                  "2020-02-26T17:29:52.456Z",
                  "idicustomer 20",
                  "1435 Lake cook rd",
                  "deerfield",
                  "IL",
                  60015,
                  "product 20"
                ]
              ],
              "schema": [
                "eventdatetime",
                "customername",
                "address",
                "city",
                "state",
                "zip",
                "productname"
              ]
            }
          },
          "execution_count": 16,
          "metadata": {},
          "output_type": "execute_result"
        }
      ],
      "source": [
        "display(dfyellow)"
      ]
    },
    {
      "cell_type": "code",
      "execution_count": 17,
      "metadata": {},
      "outputs": [
        {
          "data": {
            "text/plain": [
              "import java.security.MessageDigest"
            ]
          },
          "execution_count": 17,
          "metadata": {},
          "output_type": "execute_result"
        }
      ],
      "source": [
        "import java.security.MessageDigest"
      ]
    },
    {
      "cell_type": "code",
      "execution_count": 18,
      "metadata": {},
      "outputs": [
        {
          "data": {
            "text/plain": [
              "import org.apache.spark.sql.types._\n",
              "import org.apache.spark.sql.functions._\n",
              "import javax.xml.bind.DatatypeConverter"
            ]
          },
          "execution_count": 18,
          "metadata": {},
          "output_type": "execute_result"
        }
      ],
      "source": [
        "import org.apache.spark.sql.types._\n",
        "import org.apache.spark.sql.functions._\n",
        "import javax.xml.bind.DatatypeConverter"
      ]
    },
    {
      "cell_type": "code",
      "execution_count": 19,
      "metadata": {},
      "outputs": [
        {
          "data": {
            "text/plain": [
              "import java.security.MessageDigest\n",
              "import java.util\n",
              "import javax.crypto.Cipher\n",
              "import javax.crypto.spec.SecretKeySpec\n",
              "import org.apache.commons.codec.binary.Base64\n",
              "import java.security.DigestException\n",
              "import java.security.InvalidAlgorithmParameterException\n",
              "import java.security.InvalidKeyException\n",
              "import java.security.NoSuchAlgorithmException\n",
              "import java.security.SecureRandom\n",
              "import java.util.Arrays\n",
              "import javax.crypto.BadPaddingException\n",
              "import javax.crypto.Cipher\n",
              "import javax.crypto.IllegalBlockSizeException\n",
              "import javax.crypto.NoSuchPaddingException\n",
              "import javax.crypto.spec.IvParameterSpec\n",
              "import javax.crypto.spec.SecretKeySpec"
            ]
          },
          "execution_count": 19,
          "metadata": {},
          "output_type": "execute_result"
        }
      ],
      "source": [
        "import java.security.MessageDigest\n",
        "import java.util\n",
        "import javax.crypto.Cipher\n",
        "import javax.crypto.spec.SecretKeySpec\n",
        "import org.apache.commons.codec.binary.Base64\n",
        "import java.security.DigestException;\n",
        "import java.security.InvalidAlgorithmParameterException;\n",
        "import java.security.InvalidKeyException;\n",
        "\n",
        "import java.security.NoSuchAlgorithmException;\n",
        "import java.security.SecureRandom;\n",
        "import java.util.Arrays;\n",
        "import javax.crypto.BadPaddingException;\n",
        "import javax.crypto.Cipher;\n",
        "import javax.crypto.IllegalBlockSizeException;\n",
        "import javax.crypto.NoSuchPaddingException;\n",
        "import javax.crypto.spec.IvParameterSpec;\n",
        "import javax.crypto.spec.SecretKeySpec;"
      ]
    },
    {
      "cell_type": "code",
      "execution_count": 22,
      "metadata": {},
      "outputs": [
        {
          "data": {
            "text/plain": [
              "SALT: String = jMhKlOuJnM34G6NHkqo9V010GhLAqOpF0BePojHgh1HgNg8^72k\n",
              "keyToSpec: (key: String)javax.crypto.spec.SecretKeySpec\n",
              "encrypt: (key: String, value: String)String\n",
              "decrypt: (key: String, encryptedValue: String)String"
            ]
          },
          "execution_count": 22,
          "metadata": {},
          "output_type": "execute_result"
        }
      ],
      "source": [
        "val SALT: String =\n",
        "   \"jMhKlOuJnM34G6NHkqo9V010GhLAqOpF0BePojHgh1HgNg8^72k\"\n",
        "  \n",
        "def keyToSpec(key: String): SecretKeySpec = {\n",
        "  var keyBytes: Array[Byte] = (SALT + key).getBytes(\"UTF-8\")\n",
        "  val sha: MessageDigest = MessageDigest.getInstance(\"SHA-1\")\n",
        "  keyBytes = sha.digest(keyBytes)\n",
        "  keyBytes = util.Arrays.copyOf(keyBytes, 16)\n",
        "  new SecretKeySpec(keyBytes, \"AES\")\n",
        "}\n",
        "\n",
        "def encrypt(key: String, value: String): String = {\n",
        "  val cipher: Cipher = Cipher.getInstance(\"AES/ECB/PKCS5Padding\")\n",
        "  cipher.init(Cipher.ENCRYPT_MODE, keyToSpec(key))\n",
        "  org.apache.commons.codec.binary.Base64.encodeBase64String(cipher.doFinal(value.getBytes(\"UTF-8\")))\n",
        "}\n",
        "\n",
        "def decrypt(key: String, encryptedValue: String): String = {\n",
        "  val cipher: Cipher = Cipher.getInstance(\"AES/ECB/PKCS5PADDING\")\n",
        "  cipher.init(Cipher.DECRYPT_MODE, keyToSpec(key))\n",
        "  new String(cipher.doFinal(org.apache.commons.codec.binary.Base64.decodeBase64(encryptedValue)))\n",
        "}"
      ]
    },
    {
      "cell_type": "code",
      "execution_count": 24,
      "metadata": {},
      "outputs": [
        {
          "data": {
            "text/plain": [
              "key: String = 123456789"
            ]
          },
          "execution_count": 24,
          "metadata": {},
          "output_type": "execute_result"
        }
      ],
      "source": [
        "val key = \"123456789\""
      ]
    },
    {
      "cell_type": "code",
      "execution_count": 25,
      "metadata": {},
      "outputs": [
        {
          "data": {
            "text/plain": [
              "import org.apache.spark.sql.functions.lit"
            ]
          },
          "execution_count": 25,
          "metadata": {},
          "output_type": "execute_result"
        }
      ],
      "source": [
        "import org.apache.spark.sql.functions.lit"
      ]
    },
    {
      "cell_type": "code",
      "execution_count": 27,
      "metadata": {},
      "outputs": [
        {
          "data": {
            "text/plain": [
              "df3: org.apache.spark.sql.DataFrame = [eventdatetime: timestamp, customername: string ... 6 more fields]"
            ]
          },
          "execution_count": 27,
          "metadata": {},
          "output_type": "execute_result"
        }
      ],
      "source": [
        "val df3 = dfyellow.withColumn(\"key\", lit(key))"
      ]
    },
    {
      "cell_type": "code",
      "execution_count": 28,
      "metadata": {},
      "outputs": [
        {
          "data": {
            "text/plain": [
              "encryptUDF: org.apache.spark.sql.expressions.UserDefinedFunction = UserDefinedFunction(<function2>,StringType,Some(List(StringType, StringType)))\n",
              "decryptUDF: org.apache.spark.sql.expressions.UserDefinedFunction = UserDefinedFunction(<function2>,StringType,Some(List(StringType, StringType)))"
            ]
          },
          "execution_count": 28,
          "metadata": {},
          "output_type": "execute_result"
        }
      ],
      "source": [
        "val encryptUDF = udf(encrypt _)\n",
        "val decryptUDF = udf(decrypt _)"
      ]
    },
    {
      "cell_type": "code",
      "execution_count": 29,
      "metadata": {},
      "outputs": [
        {
          "data": {
            "text/plain": [
              "df4: org.apache.spark.sql.DataFrame = [eventdatetime: timestamp, customername: string ... 7 more fields]"
            ]
          },
          "execution_count": 29,
          "metadata": {},
          "output_type": "execute_result"
        }
      ],
      "source": [
        "val df4 = df3.withColumn(\"encryptedcust\", encryptUDF(col(\"key\").cast(StringType),col(\"customername\").cast(StringType)))"
      ]
    },
    {
      "cell_type": "code",
      "execution_count": 30,
      "metadata": {},
      "outputs": [
        {
          "data": {
            "application/json": {
              "rows": [
                [
                  "2020-02-26T15:56:52.064Z",
                  "idicustomer 11",
                  "1435 Lake cook rd",
                  "deerfield",
                  "IL",
                  60015,
                  "product 11",
                  "123456789",
                  "ZbfV6No6z9mGGBAut33Clw=="
                ],
                [
                  "2020-02-26T17:14:42.874Z",
                  "idicustomer 6",
                  "1435 Lake cook rd",
                  "deerfield",
                  "IL",
                  60015,
                  "product 6",
                  "123456789",
                  "wHD+LGByRNus6Us9tHhJCA=="
                ],
                [
                  "2020-02-26T16:04:28.289Z",
                  "idicustomer 0",
                  "1435 Lake cook rd",
                  "deerfield",
                  "IL",
                  60015,
                  "product 0",
                  "123456789",
                  "nSceq0azaRcXHPQNbJmaFQ=="
                ],
                [
                  "2020-02-26T17:07:08.435Z",
                  "idicustomer 31",
                  "1435 Lake cook rd",
                  "deerfield",
                  "IL",
                  60015,
                  "product 31",
                  "123456789",
                  "FRXBu2f9IS4kDdhB33gV8Q=="
                ],
                [
                  "2020-02-26T15:46:43.191Z",
                  "idicustomer 86",
                  "1435 Lake cook rd",
                  "deerfield",
                  "IL",
                  60015,
                  "product 86",
                  "123456789",
                  "HzigNCwH1iPFfA7nZkVDYQ=="
                ],
                [
                  "2020-02-26T17:30:43.931Z",
                  "idicustomer 91",
                  "1435 Lake cook rd",
                  "deerfield",
                  "IL",
                  60015,
                  "product 91",
                  "123456789",
                  "umcy3Y6TM2+5OdhB9/Cyag=="
                ],
                [
                  "2020-02-26T15:57:10.408Z",
                  "idicustomer 66",
                  "1435 Lake cook rd",
                  "deerfield",
                  "IL",
                  60015,
                  "product 66",
                  "123456789",
                  "tZ5SdchBzXJdMqLrU6llHA=="
                ],
                [
                  "2020-02-26T17:48:08.953Z",
                  "idicustomer 61",
                  "1435 Lake cook rd",
                  "deerfield",
                  "IL",
                  60015,
                  "product 61",
                  "123456789",
                  "gnv4dy30unT8Ypxs9+DlQQ=="
                ],
                [
                  "2020-02-26T15:46:37.847Z",
                  "idicustomer 12",
                  "1435 Lake cook rd",
                  "deerfield",
                  "IL",
                  60015,
                  "product 12",
                  "123456789",
                  "wklpOmXoJkIpHFZ6LKSdlg=="
                ],
                [
                  "2020-02-26T17:33:13.019Z",
                  "idicustomer 7",
                  "1435 Lake cook rd",
                  "deerfield",
                  "IL",
                  60015,
                  "product 7",
                  "123456789",
                  "z/8doHS78uGUUVFiSiBSvg=="
                ],
                [
                  "2020-02-26T16:46:27.665Z",
                  "idicustomer 71",
                  "1435 Lake cook rd",
                  "deerfield",
                  "IL",
                  60015,
                  "product 71",
                  "123456789",
                  "g/7ryZw7HtBwmxVdisUFww=="
                ],
                [
                  "2020-02-26T17:16:31.131Z",
                  "idicustomer 32",
                  "1435 Lake cook rd",
                  "deerfield",
                  "IL",
                  60015,
                  "product 32",
                  "123456789",
                  "KW9hqSqjm9o7TkkuJshZyw=="
                ],
                [
                  "2020-02-26T16:50:35.071Z",
                  "idicustomer 87",
                  "1435 Lake cook rd",
                  "deerfield",
                  "IL",
                  60015,
                  "product 87",
                  "123456789",
                  "wZrlyZL0mY9DDniI5uyIyg=="
                ],
                [
                  "2020-02-26T17:40:35.282Z",
                  "idicustomer 92",
                  "1435 Lake cook rd",
                  "deerfield",
                  "IL",
                  60015,
                  "product 92",
                  "123456789",
                  "g/2UObUPL+/2iy7ul+ZqqQ=="
                ],
                [
                  "2020-02-26T16:06:13.514Z",
                  "idicustomer 67",
                  "1435 Lake cook rd",
                  "deerfield",
                  "IL",
                  60015,
                  "product 67",
                  "123456789",
                  "y1el6PeCLfuduIKIOyonOg=="
                ],
                [
                  "2020-02-26T17:59:19.001Z",
                  "idicustomer 62",
                  "1435 Lake cook rd",
                  "deerfield",
                  "IL",
                  60015,
                  "product 62",
                  "123456789",
                  "STD5qOz+WBN5pnvu/E80lQ=="
                ],
                [
                  "2020-02-26T15:59:35.426Z",
                  "idicustomer 13",
                  "1435 Lake cook rd",
                  "deerfield",
                  "IL",
                  60015,
                  "product 13",
                  "123456789",
                  "3kbM1ITqq+0fNNEwUg1HOQ=="
                ],
                [
                  "2020-02-26T17:46:34.167Z",
                  "idicustomer 8",
                  "1435 Lake cook rd",
                  "deerfield",
                  "IL",
                  60015,
                  "product 8",
                  "123456789",
                  "7Fkvum+IOSZZ5dGRGMeUpg=="
                ],
                [
                  "2020-02-26T16:56:28.908Z",
                  "idicustomer 72",
                  "1435 Lake cook rd",
                  "deerfield",
                  "IL",
                  60015,
                  "product 72",
                  "123456789",
                  "nTB7Y45fY8obboqR+nF1rQ=="
                ],
                [
                  "2020-02-26T17:27:11.874Z",
                  "idicustomer 33",
                  "1435 Lake cook rd",
                  "deerfield",
                  "IL",
                  60015,
                  "product 33",
                  "123456789",
                  "8pCiDjVeUUxChVVxH9ii4g=="
                ],
                [
                  "2020-02-26T16:59:52.014Z",
                  "idicustomer 88",
                  "1435 Lake cook rd",
                  "deerfield",
                  "IL",
                  60015,
                  "product 88",
                  "123456789",
                  "YxdGmRrU78LbQ8SWnGtIaQ=="
                ],
                [
                  "2020-02-26T17:53:52.405Z",
                  "idicustomer 93",
                  "1435 Lake cook rd",
                  "deerfield",
                  "IL",
                  60015,
                  "product 93",
                  "123456789",
                  "Y3tRp/AIuZcAMrijPkjHww=="
                ],
                [
                  "2020-02-26T15:44:07.072Z",
                  "idicustomer 68",
                  "1435 Lake cook rd",
                  "deerfield",
                  "IL",
                  60015,
                  "product 68",
                  "123456789",
                  "pmvrp+IdgP9ZHklRFevWkQ=="
                ],
                [
                  "2020-02-26T18:08:39.002Z",
                  "idicustomer 63",
                  "1435 Lake cook rd",
                  "deerfield",
                  "IL",
                  60015,
                  "product 63",
                  "123456789",
                  "1FK9vSlUW/Xb3lxD1YhPTg=="
                ],
                [
                  "2020-02-26T16:09:11.955Z",
                  "idicustomer 14",
                  "1435 Lake cook rd",
                  "deerfield",
                  "IL",
                  60015,
                  "product 14",
                  "123456789",
                  "k0w8Fi7pZ9qBTRLkmes2Rw=="
                ],
                [
                  "2020-02-26T17:56:32.256Z",
                  "idicustomer 9",
                  "1435 Lake cook rd",
                  "deerfield",
                  "IL",
                  60015,
                  "product 9",
                  "123456789",
                  "ME9pE9fLKKqvMR5AW/bDrA=="
                ],
                [
                  "2020-02-26T17:06:15.553Z",
                  "idicustomer 73",
                  "1435 Lake cook rd",
                  "deerfield",
                  "IL",
                  60015,
                  "product 73",
                  "123456789",
                  "1wRjCpN4aJQiIKSUTx6WXA=="
                ],
                [
                  "2020-02-26T15:52:21.536Z",
                  "idicustomer 34",
                  "1435 Lake cook rd",
                  "deerfield",
                  "IL",
                  60015,
                  "product 34",
                  "123456789",
                  "f4PvMBR4Ou6VAAYB0vM7Tw=="
                ],
                [
                  "2020-02-26T17:09:33.312Z",
                  "idicustomer 89",
                  "1435 Lake cook rd",
                  "deerfield",
                  "IL",
                  60015,
                  "product 89",
                  "123456789",
                  "rlJGPo0R30FNOwNC4D8m8w=="
                ],
                [
                  "2020-02-26T18:04:42.348Z",
                  "idicustomer 94",
                  "1435 Lake cook rd",
                  "deerfield",
                  "IL",
                  60015,
                  "product 94",
                  "123456789",
                  "R/ZUTkCSgIZLT//zf8v/xA=="
                ],
                [
                  "2020-02-26T16:24:29.833Z",
                  "idicustomer 69",
                  "1435 Lake cook rd",
                  "deerfield",
                  "IL",
                  60015,
                  "product 69",
                  "123456789",
                  "VhPzWkYJSn+2xTDSUQHx0w=="
                ],
                [
                  "2020-02-26T18:20:22.016Z",
                  "idicustomer 64",
                  "1435 Lake cook rd",
                  "deerfield",
                  "IL",
                  60015,
                  "product 64",
                  "123456789",
                  "s72TNWLXSnXtmem6L5Vzqw=="
                ],
                [
                  "2020-02-26T16:20:14.507Z",
                  "idicustomer 15",
                  "1435 Lake cook rd",
                  "deerfield",
                  "IL",
                  60015,
                  "product 15",
                  "123456789",
                  "fzkvR6m1HzQwlGDfBdPzLQ=="
                ],
                [
                  "2020-02-26T18:12:04.619Z",
                  "idicustomer 10",
                  "1435 Lake cook rd",
                  "deerfield",
                  "IL",
                  60015,
                  "product 10",
                  "123456789",
                  "rn+EvufrhTFsPtQn7FIFvg=="
                ],
                [
                  "2020-02-26T15:50:09.631Z",
                  "idicustomer 74",
                  "1435 Lake cook rd",
                  "deerfield",
                  "IL",
                  60015,
                  "product 74",
                  "123456789",
                  "jehzrCqvdAy9mJ/8KPN0KA=="
                ],
                [
                  "2020-02-26T17:47:50.346Z",
                  "idicustomer 35",
                  "1435 Lake cook rd",
                  "deerfield",
                  "IL",
                  60015,
                  "product 35",
                  "123456789",
                  "GZ6xJfF6vzW3WtSrqV8URQ=="
                ],
                [
                  "2020-02-26T17:21:35.473Z",
                  "idicustomer 90",
                  "1435 Lake cook rd",
                  "deerfield",
                  "IL",
                  60015,
                  "product 90",
                  "123456789",
                  "S0mbO84RJdrw7GzXjb891g=="
                ],
                [
                  "2020-02-26T18:19:31.881Z",
                  "idicustomer 95",
                  "1435 Lake cook rd",
                  "deerfield",
                  "IL",
                  60015,
                  "product 95",
                  "123456789",
                  "hpEvnI2wrqAqABuUyiRdSA=="
                ],
                [
                  "2020-02-26T16:35:35.885Z",
                  "idicustomer 70",
                  "1435 Lake cook rd",
                  "deerfield",
                  "IL",
                  60015,
                  "product 70",
                  "123456789",
                  "fhCnNgI99tWWSs49wNUYWw=="
                ],
                [
                  "2020-02-26T15:42:50.453Z",
                  "idicustomer 65",
                  "1435 Lake cook rd",
                  "deerfield",
                  "IL",
                  60015,
                  "product 65",
                  "123456789",
                  "7fW9DCLSJ+h5p4hvwuqPDg=="
                ],
                [
                  "2020-02-26T15:50:52.226Z",
                  "idicustomer 81",
                  "1435 Lake cook rd",
                  "deerfield",
                  "IL",
                  60015,
                  "product 81",
                  "123456789",
                  "qNftupqGM7KXfNwzdzotqQ=="
                ],
                [
                  "2020-02-26T15:42:46.921Z",
                  "idicustomer 26",
                  "1435 Lake cook rd",
                  "deerfield",
                  "IL",
                  60015,
                  "product 26",
                  "123456789",
                  "IiIplhjAQ/98MM/v/hxCTg=="
                ],
                [
                  "2020-02-26T17:25:15.583Z",
                  "idicustomer 75",
                  "1435 Lake cook rd",
                  "deerfield",
                  "IL",
                  60015,
                  "product 75",
                  "123456789",
                  "BqVnu6UaQQxBAkyaVsoCUw=="
                ],
                [
                  "2020-02-26T18:22:07.754Z",
                  "idicustomer 51",
                  "1435 Lake cook rd",
                  "deerfield",
                  "IL",
                  60015,
                  "product 51",
                  "123456789",
                  "TnUlawHunwzahcoEowE5Og=="
                ],
                [
                  "2020-02-26T16:38:43.974Z",
                  "idicustomer 56",
                  "1435 Lake cook rd",
                  "deerfield",
                  "IL",
                  60015,
                  "product 56",
                  "123456789",
                  "PyfeXFSsk+vOUxBFxf80Zw=="
                ],
                [
                  "2020-02-26T17:59:29.169Z",
                  "idicustomer 36",
                  "1435 Lake cook rd",
                  "deerfield",
                  "IL",
                  60015,
                  "product 36",
                  "123456789",
                  "UdT6q7Ba9ptAwOanNTLZEQ=="
                ],
                [
                  "2020-02-26T16:14:35.847Z",
                  "idicustomer 41",
                  "1435 Lake cook rd",
                  "deerfield",
                  "IL",
                  60015,
                  "product 41",
                  "123456789",
                  "9jqtnWd3wz7Cgox3jRNwxQ=="
                ],
                [
                  "2020-02-26T17:39:42.597Z",
                  "idicustomer 21",
                  "1435 Lake cook rd",
                  "deerfield",
                  "IL",
                  60015,
                  "product 21",
                  "123456789",
                  "tm8b2p5/ooIOpXpd3Bk0cg=="
                ],
                [
                  "2020-02-26T16:01:55.142Z",
                  "idicustomer 82",
                  "1435 Lake cook rd",
                  "deerfield",
                  "IL",
                  60015,
                  "product 82",
                  "123456789",
                  "5qmKwANlhRqjzkG3X4enew=="
                ],
                [
                  "2020-02-26T16:13:54.132Z",
                  "idicustomer 27",
                  "1435 Lake cook rd",
                  "deerfield",
                  "IL",
                  60015,
                  "product 27",
                  "123456789",
                  "MBvsvjdjrUBntTpyDmLegw=="
                ],
                [
                  "2020-02-26T16:14:15.139Z",
                  "idicustomer 1",
                  "1435 Lake cook rd",
                  "deerfield",
                  "IL",
                  60015,
                  "product 1",
                  "123456789",
                  "dZP1VHn4d43E56SVYKRFZQ=="
                ],
                [
                  "2020-02-26T15:48:37.241Z",
                  "idicustomer 52",
                  "1435 Lake cook rd",
                  "deerfield",
                  "IL",
                  60015,
                  "product 52",
                  "123456789",
                  "QT6u3zMS1GRh3aP6f97Gtw=="
                ],
                [
                  "2020-02-26T15:41:18.437Z",
                  "idicustomer 57",
                  "1435 Lake cook rd",
                  "deerfield",
                  "IL",
                  60015,
                  "product 57",
                  "123456789",
                  "IuA4aEVcJNVYSXfhmW93Aw=="
                ],
                [
                  "2020-02-26T15:42:10.931Z",
                  "idicustomer 37",
                  "1435 Lake cook rd",
                  "deerfield",
                  "IL",
                  60015,
                  "product 37",
                  "123456789",
                  "5ZxhwVRrj2IMQyz6Sf0Pyg=="
                ],
                [
                  "2020-02-26T16:25:47.371Z",
                  "idicustomer 42",
                  "1435 Lake cook rd",
                  "deerfield",
                  "IL",
                  60015,
                  "product 42",
                  "123456789",
                  "dTy/v2K9KmXc+rsH1S1G2Q=="
                ],
                [
                  "2020-02-26T17:51:43.394Z",
                  "idicustomer 22",
                  "1435 Lake cook rd",
                  "deerfield",
                  "IL",
                  60015,
                  "product 22",
                  "123456789",
                  "SRQqy1cKyDGoND+j7FXgAA=="
                ],
                [
                  "2020-02-26T16:11:52.374Z",
                  "idicustomer 83",
                  "1435 Lake cook rd",
                  "deerfield",
                  "IL",
                  60015,
                  "product 83",
                  "123456789",
                  "iUGouPT3YeXRfkKVmXV7wA=="
                ],
                [
                  "2020-02-26T16:23:11.711Z",
                  "idicustomer 28",
                  "1435 Lake cook rd",
                  "deerfield",
                  "IL",
                  60015,
                  "product 28",
                  "123456789",
                  "q3FdGoInV5wEiHgQIweeKQ=="
                ],
                [
                  "2020-02-26T15:45:04.784Z",
                  "idicustomer 2",
                  "1435 Lake cook rd",
                  "deerfield",
                  "IL",
                  60015,
                  "product 2",
                  "123456789",
                  "G3mxd2lYd/mw2Nbjbrmq8A=="
                ],
                [
                  "2020-02-26T15:59:47.648Z",
                  "idicustomer 53",
                  "1435 Lake cook rd",
                  "deerfield",
                  "IL",
                  60015,
                  "product 53",
                  "123456789",
                  "1iJWYSftif3pl3yLZ3M2Fw=="
                ],
                [
                  "2020-02-26T16:58:02.416Z",
                  "idicustomer 58",
                  "1435 Lake cook rd",
                  "deerfield",
                  "IL",
                  60015,
                  "product 58",
                  "123456789",
                  "uvhkMQU4oq7HeT6zyHMSkQ=="
                ],
                [
                  "2020-02-26T15:41:35.142Z",
                  "idicustomer 38",
                  "1435 Lake cook rd",
                  "deerfield",
                  "IL",
                  60015,
                  "product 38",
                  "123456789",
                  "qowN18f2bBo6tiwpVEdIMw=="
                ],
                [
                  "2020-02-26T16:35:47.027Z",
                  "idicustomer 43",
                  "1435 Lake cook rd",
                  "deerfield",
                  "IL",
                  60015,
                  "product 43",
                  "123456789",
                  "EBO91HXX/Cienpmt2oP3fQ=="
                ],
                [
                  "2020-02-26T18:14:13.166Z",
                  "idicustomer 23",
                  "1435 Lake cook rd",
                  "deerfield",
                  "IL",
                  60015,
                  "product 23",
                  "123456789",
                  "38cuwStIR3I/D9shQpj+vw=="
                ],
                [
                  "2020-02-26T15:44:54.207Z",
                  "idicustomer 84",
                  "1435 Lake cook rd",
                  "deerfield",
                  "IL",
                  60015,
                  "product 84",
                  "123456789",
                  "AXq1YE+lZ2yJyJn5KyMWAg=="
                ],
                [
                  "2020-02-26T16:32:37.013Z",
                  "idicustomer 29",
                  "1435 Lake cook rd",
                  "deerfield",
                  "IL",
                  60015,
                  "product 29",
                  "123456789",
                  "RyN25X4JIkh3vY+QaLSq5g=="
                ],
                [
                  "2020-02-26T16:34:59.029Z",
                  "idicustomer 3",
                  "1435 Lake cook rd",
                  "deerfield",
                  "IL",
                  60015,
                  "product 3",
                  "123456789",
                  "mWk69vvaaH3PrK7jAQVL5Q=="
                ],
                [
                  "2020-02-26T16:09:54.919Z",
                  "idicustomer 54",
                  "1435 Lake cook rd",
                  "deerfield",
                  "IL",
                  60015,
                  "product 54",
                  "123456789",
                  "NTe5P4jrJ4rhLMn84bS5DA=="
                ],
                [
                  "2020-02-26T17:07:32.957Z",
                  "idicustomer 59",
                  "1435 Lake cook rd",
                  "deerfield",
                  "IL",
                  60015,
                  "product 59",
                  "123456789",
                  "XcJvGtCEqJ8dqGKOzDS9kg=="
                ],
                [
                  "2020-02-26T15:52:05.154Z",
                  "idicustomer 39",
                  "1435 Lake cook rd",
                  "deerfield",
                  "IL",
                  60015,
                  "product 39",
                  "123456789",
                  "0lGyegxdRmGfzjBZfMUznA=="
                ],
                [
                  "2020-02-26T15:47:13.975Z",
                  "idicustomer 44",
                  "1435 Lake cook rd",
                  "deerfield",
                  "IL",
                  60015,
                  "product 44",
                  "123456789",
                  "TPHc6Z6GBCW2oo0xgZ81Gw=="
                ],
                [
                  "2020-02-26T18:25:31.832Z",
                  "idicustomer 24",
                  "1435 Lake cook rd",
                  "deerfield",
                  "IL",
                  60015,
                  "product 24",
                  "123456789",
                  "YFsBA7iigRjZ+zkQFR2QQA=="
                ],
                [
                  "2020-02-26T16:32:05.287Z",
                  "idicustomer 85",
                  "1435 Lake cook rd",
                  "deerfield",
                  "IL",
                  60015,
                  "product 85",
                  "123456789",
                  "nB8ybutIMwqwVGc5/6NH5g=="
                ],
                [
                  "2020-02-26T16:54:18.789Z",
                  "idicustomer 30",
                  "1435 Lake cook rd",
                  "deerfield",
                  "IL",
                  60015,
                  "product 30",
                  "123456789",
                  "ZCEg25eLlqIttpzpMGnzBA=="
                ],
                [
                  "2020-02-26T15:47:07.735Z",
                  "idicustomer 4",
                  "1435 Lake cook rd",
                  "deerfield",
                  "IL",
                  60015,
                  "product 4",
                  "123456789",
                  "F+OGbJfH8FQw1T7VhHettg=="
                ],
                [
                  "2020-02-26T16:28:01.964Z",
                  "idicustomer 55",
                  "1435 Lake cook rd",
                  "deerfield",
                  "IL",
                  60015,
                  "product 55",
                  "123456789",
                  "r9WjP0pYoHYjeTgpgsw3FA=="
                ],
                [
                  "2020-02-26T17:20:21.725Z",
                  "idicustomer 60",
                  "1435 Lake cook rd",
                  "deerfield",
                  "IL",
                  60015,
                  "product 60",
                  "123456789",
                  "J1eUYJtaZgefWqHkVDTJwQ=="
                ],
                [
                  "2020-02-26T16:04:48.088Z",
                  "idicustomer 40",
                  "1435 Lake cook rd",
                  "deerfield",
                  "IL",
                  60015,
                  "product 40",
                  "123456789",
                  "nlrACLFv1lk82Li93sfZrQ=="
                ],
                [
                  "2020-02-26T16:56:04.981Z",
                  "idicustomer 45",
                  "1435 Lake cook rd",
                  "deerfield",
                  "IL",
                  60015,
                  "product 45",
                  "123456789",
                  "GSghECAlkt7yj2ZW6oOm9A=="
                ],
                [
                  "2020-02-26T15:48:13.366Z",
                  "idicustomer 25",
                  "1435 Lake cook rd",
                  "deerfield",
                  "IL",
                  60015,
                  "product 25",
                  "123456789",
                  "g9WDAxj0TNdl8eWIpmnoxQ=="
                ],
                [
                  "2020-02-26T17:34:46.592Z",
                  "idicustomer 76",
                  "1435 Lake cook rd",
                  "deerfield",
                  "IL",
                  60015,
                  "product 76",
                  "123456789",
                  "bq6QLObSR0Z+gsP3n2ab5g=="
                ],
                [
                  "2020-02-26T15:53:42.972Z",
                  "idicustomer 96",
                  "1435 Lake cook rd",
                  "deerfield",
                  "IL",
                  60015,
                  "product 96",
                  "123456789",
                  "mYjOsNgw4yZNbBw1cnYJVA=="
                ],
                [
                  "2020-02-26T17:02:12.471Z",
                  "idicustomer 5",
                  "1435 Lake cook rd",
                  "deerfield",
                  "IL",
                  60015,
                  "product 5",
                  "123456789",
                  "YTOhfE09V9IkEgMSf/OKiQ=="
                ],
                [
                  "2020-02-26T17:14:05.482Z",
                  "idicustomer 46",
                  "1435 Lake cook rd",
                  "deerfield",
                  "IL",
                  60015,
                  "product 46",
                  "123456789",
                  "K4078GHOK2LAl0vQOuFxHA=="
                ],
                [
                  "2020-02-26T16:38:35.237Z",
                  "idicustomer 16",
                  "1435 Lake cook rd",
                  "deerfield",
                  "IL",
                  60015,
                  "product 16",
                  "123456789",
                  "7u+2VxvY5a0c0c10HbY0kA=="
                ],
                [
                  "2020-02-26T17:46:02.749Z",
                  "idicustomer 77",
                  "1435 Lake cook rd",
                  "deerfield",
                  "IL",
                  60015,
                  "product 77",
                  "123456789",
                  "upZHjhUK0WfWmKrBO9MZZw=="
                ],
                [
                  "2020-02-26T16:04:56.891Z",
                  "idicustomer 97",
                  "1435 Lake cook rd",
                  "deerfield",
                  "IL",
                  60015,
                  "product 97",
                  "123456789",
                  "DFQ7Gs7sEa/gPLSN3bZ3BA=="
                ],
                [
                  "2020-02-26T17:27:32.955Z",
                  "idicustomer 47",
                  "1435 Lake cook rd",
                  "deerfield",
                  "IL",
                  60015,
                  "product 47",
                  "123456789",
                  "kCewlRmUO5w/kQCfHOFJgA=="
                ],
                [
                  "2020-02-26T16:57:03.814Z",
                  "idicustomer 17",
                  "1435 Lake cook rd",
                  "deerfield",
                  "IL",
                  60015,
                  "product 17",
                  "123456789",
                  "PPocXrmz3gdUN7xq3+Hh5A=="
                ],
                [
                  "2020-02-26T15:55:03.277Z",
                  "idicustomer 78",
                  "1435 Lake cook rd",
                  "deerfield",
                  "IL",
                  60015,
                  "product 78",
                  "123456789",
                  "mC+e1vOvlMS1HHxBVGcd3g=="
                ],
                [
                  "2020-02-26T15:44:02.202Z",
                  "idicustomer 98",
                  "1435 Lake cook rd",
                  "deerfield",
                  "IL",
                  60015,
                  "product 98",
                  "123456789",
                  "ntGOmP6AijQKkNSgKmMhpA=="
                ],
                [
                  "2020-02-26T17:47:55.224Z",
                  "idicustomer 48",
                  "1435 Lake cook rd",
                  "deerfield",
                  "IL",
                  60015,
                  "product 48",
                  "123456789",
                  "6sOpb3cRsdQ7a1P5vHkOGg=="
                ],
                [
                  "2020-02-26T17:10:12.073Z",
                  "idicustomer 18",
                  "1435 Lake cook rd",
                  "deerfield",
                  "IL",
                  60015,
                  "product 18",
                  "123456789",
                  "uwr9V/3scwgKxbPhe4HOLQ=="
                ],
                [
                  "2020-02-26T18:14:24.266Z",
                  "idicustomer 79",
                  "1435 Lake cook rd",
                  "deerfield",
                  "IL",
                  60015,
                  "product 79",
                  "123456789",
                  "7JCsmB3a3u5ZgXwTgU/c/Q=="
                ],
                [
                  "2020-02-26T16:23:12.831Z",
                  "idicustomer 99",
                  "1435 Lake cook rd",
                  "deerfield",
                  "IL",
                  60015,
                  "product 99",
                  "123456789",
                  "qPF+kX4mIMsPp0vaOmkGlQ=="
                ],
                [
                  "2020-02-26T17:59:25.095Z",
                  "idicustomer 49",
                  "1435 Lake cook rd",
                  "deerfield",
                  "IL",
                  60015,
                  "product 49",
                  "123456789",
                  "NLkOgcq0+uLrNIwOiuD9UQ=="
                ],
                [
                  "2020-02-26T17:19:57.264Z",
                  "idicustomer 19",
                  "1435 Lake cook rd",
                  "deerfield",
                  "IL",
                  60015,
                  "product 19",
                  "123456789",
                  "Vz23axR4Dex1/QxfXboSVQ=="
                ],
                [
                  "2020-02-26T15:41:05.195Z",
                  "idicustomer 80",
                  "1435 Lake cook rd",
                  "deerfield",
                  "IL",
                  60015,
                  "product 80",
                  "123456789",
                  "3M6hI73pIFhfNFCqW6D3Jw=="
                ],
                [
                  "2020-02-26T18:08:48.818Z",
                  "idicustomer 50",
                  "1435 Lake cook rd",
                  "deerfield",
                  "IL",
                  60015,
                  "product 50",
                  "123456789",
                  "GPAUu8knIUKMrkl8DTZ+QA=="
                ],
                [
                  "2020-02-26T17:29:52.456Z",
                  "idicustomer 20",
                  "1435 Lake cook rd",
                  "deerfield",
                  "IL",
                  60015,
                  "product 20",
                  "123456789",
                  "PeoNrAbA87eN/+3A0TDO/g=="
                ]
              ],
              "schema": [
                "eventdatetime",
                "customername",
                "address",
                "city",
                "state",
                "zip",
                "productname",
                "key",
                "encryptedcust"
              ]
            }
          },
          "execution_count": 30,
          "metadata": {},
          "output_type": "execute_result"
        }
      ],
      "source": [
        "display(df4)"
      ]
    },
    {
      "cell_type": "code",
      "execution_count": 31,
      "metadata": {},
      "outputs": [
        {
          "data": {
            "text/plain": [
              "df5: org.apache.spark.sql.DataFrame = [eventdatetime: timestamp, customername: string ... 8 more fields]"
            ]
          },
          "execution_count": 31,
          "metadata": {},
          "output_type": "execute_result"
        }
      ],
      "source": [
        "val df5 = df4.withColumn(\"deencryptedcust\", decryptUDF(col(\"key\").cast(StringType),col(\"encryptedcust\").cast(StringType)))"
      ]
    },
    {
      "cell_type": "code",
      "execution_count": 32,
      "metadata": {},
      "outputs": [
        {
          "data": {
            "application/json": {
              "rows": [
                [
                  "2020-02-26T15:56:52.064Z",
                  "idicustomer 11",
                  "1435 Lake cook rd",
                  "deerfield",
                  "IL",
                  60015,
                  "product 11",
                  "123456789",
                  "ZbfV6No6z9mGGBAut33Clw==",
                  "idicustomer 11"
                ],
                [
                  "2020-02-26T17:14:42.874Z",
                  "idicustomer 6",
                  "1435 Lake cook rd",
                  "deerfield",
                  "IL",
                  60015,
                  "product 6",
                  "123456789",
                  "wHD+LGByRNus6Us9tHhJCA==",
                  "idicustomer 6"
                ],
                [
                  "2020-02-26T16:04:28.289Z",
                  "idicustomer 0",
                  "1435 Lake cook rd",
                  "deerfield",
                  "IL",
                  60015,
                  "product 0",
                  "123456789",
                  "nSceq0azaRcXHPQNbJmaFQ==",
                  "idicustomer 0"
                ],
                [
                  "2020-02-26T17:07:08.435Z",
                  "idicustomer 31",
                  "1435 Lake cook rd",
                  "deerfield",
                  "IL",
                  60015,
                  "product 31",
                  "123456789",
                  "FRXBu2f9IS4kDdhB33gV8Q==",
                  "idicustomer 31"
                ],
                [
                  "2020-02-26T15:46:43.191Z",
                  "idicustomer 86",
                  "1435 Lake cook rd",
                  "deerfield",
                  "IL",
                  60015,
                  "product 86",
                  "123456789",
                  "HzigNCwH1iPFfA7nZkVDYQ==",
                  "idicustomer 86"
                ],
                [
                  "2020-02-26T17:30:43.931Z",
                  "idicustomer 91",
                  "1435 Lake cook rd",
                  "deerfield",
                  "IL",
                  60015,
                  "product 91",
                  "123456789",
                  "umcy3Y6TM2+5OdhB9/Cyag==",
                  "idicustomer 91"
                ],
                [
                  "2020-02-26T15:57:10.408Z",
                  "idicustomer 66",
                  "1435 Lake cook rd",
                  "deerfield",
                  "IL",
                  60015,
                  "product 66",
                  "123456789",
                  "tZ5SdchBzXJdMqLrU6llHA==",
                  "idicustomer 66"
                ],
                [
                  "2020-02-26T17:48:08.953Z",
                  "idicustomer 61",
                  "1435 Lake cook rd",
                  "deerfield",
                  "IL",
                  60015,
                  "product 61",
                  "123456789",
                  "gnv4dy30unT8Ypxs9+DlQQ==",
                  "idicustomer 61"
                ],
                [
                  "2020-02-26T15:46:37.847Z",
                  "idicustomer 12",
                  "1435 Lake cook rd",
                  "deerfield",
                  "IL",
                  60015,
                  "product 12",
                  "123456789",
                  "wklpOmXoJkIpHFZ6LKSdlg==",
                  "idicustomer 12"
                ],
                [
                  "2020-02-26T17:33:13.019Z",
                  "idicustomer 7",
                  "1435 Lake cook rd",
                  "deerfield",
                  "IL",
                  60015,
                  "product 7",
                  "123456789",
                  "z/8doHS78uGUUVFiSiBSvg==",
                  "idicustomer 7"
                ],
                [
                  "2020-02-26T16:46:27.665Z",
                  "idicustomer 71",
                  "1435 Lake cook rd",
                  "deerfield",
                  "IL",
                  60015,
                  "product 71",
                  "123456789",
                  "g/7ryZw7HtBwmxVdisUFww==",
                  "idicustomer 71"
                ],
                [
                  "2020-02-26T17:16:31.131Z",
                  "idicustomer 32",
                  "1435 Lake cook rd",
                  "deerfield",
                  "IL",
                  60015,
                  "product 32",
                  "123456789",
                  "KW9hqSqjm9o7TkkuJshZyw==",
                  "idicustomer 32"
                ],
                [
                  "2020-02-26T16:50:35.071Z",
                  "idicustomer 87",
                  "1435 Lake cook rd",
                  "deerfield",
                  "IL",
                  60015,
                  "product 87",
                  "123456789",
                  "wZrlyZL0mY9DDniI5uyIyg==",
                  "idicustomer 87"
                ],
                [
                  "2020-02-26T17:40:35.282Z",
                  "idicustomer 92",
                  "1435 Lake cook rd",
                  "deerfield",
                  "IL",
                  60015,
                  "product 92",
                  "123456789",
                  "g/2UObUPL+/2iy7ul+ZqqQ==",
                  "idicustomer 92"
                ],
                [
                  "2020-02-26T16:06:13.514Z",
                  "idicustomer 67",
                  "1435 Lake cook rd",
                  "deerfield",
                  "IL",
                  60015,
                  "product 67",
                  "123456789",
                  "y1el6PeCLfuduIKIOyonOg==",
                  "idicustomer 67"
                ],
                [
                  "2020-02-26T17:59:19.001Z",
                  "idicustomer 62",
                  "1435 Lake cook rd",
                  "deerfield",
                  "IL",
                  60015,
                  "product 62",
                  "123456789",
                  "STD5qOz+WBN5pnvu/E80lQ==",
                  "idicustomer 62"
                ],
                [
                  "2020-02-26T15:59:35.426Z",
                  "idicustomer 13",
                  "1435 Lake cook rd",
                  "deerfield",
                  "IL",
                  60015,
                  "product 13",
                  "123456789",
                  "3kbM1ITqq+0fNNEwUg1HOQ==",
                  "idicustomer 13"
                ],
                [
                  "2020-02-26T17:46:34.167Z",
                  "idicustomer 8",
                  "1435 Lake cook rd",
                  "deerfield",
                  "IL",
                  60015,
                  "product 8",
                  "123456789",
                  "7Fkvum+IOSZZ5dGRGMeUpg==",
                  "idicustomer 8"
                ],
                [
                  "2020-02-26T16:56:28.908Z",
                  "idicustomer 72",
                  "1435 Lake cook rd",
                  "deerfield",
                  "IL",
                  60015,
                  "product 72",
                  "123456789",
                  "nTB7Y45fY8obboqR+nF1rQ==",
                  "idicustomer 72"
                ],
                [
                  "2020-02-26T17:27:11.874Z",
                  "idicustomer 33",
                  "1435 Lake cook rd",
                  "deerfield",
                  "IL",
                  60015,
                  "product 33",
                  "123456789",
                  "8pCiDjVeUUxChVVxH9ii4g==",
                  "idicustomer 33"
                ],
                [
                  "2020-02-26T16:59:52.014Z",
                  "idicustomer 88",
                  "1435 Lake cook rd",
                  "deerfield",
                  "IL",
                  60015,
                  "product 88",
                  "123456789",
                  "YxdGmRrU78LbQ8SWnGtIaQ==",
                  "idicustomer 88"
                ],
                [
                  "2020-02-26T17:53:52.405Z",
                  "idicustomer 93",
                  "1435 Lake cook rd",
                  "deerfield",
                  "IL",
                  60015,
                  "product 93",
                  "123456789",
                  "Y3tRp/AIuZcAMrijPkjHww==",
                  "idicustomer 93"
                ],
                [
                  "2020-02-26T15:44:07.072Z",
                  "idicustomer 68",
                  "1435 Lake cook rd",
                  "deerfield",
                  "IL",
                  60015,
                  "product 68",
                  "123456789",
                  "pmvrp+IdgP9ZHklRFevWkQ==",
                  "idicustomer 68"
                ],
                [
                  "2020-02-26T18:08:39.002Z",
                  "idicustomer 63",
                  "1435 Lake cook rd",
                  "deerfield",
                  "IL",
                  60015,
                  "product 63",
                  "123456789",
                  "1FK9vSlUW/Xb3lxD1YhPTg==",
                  "idicustomer 63"
                ],
                [
                  "2020-02-26T16:09:11.955Z",
                  "idicustomer 14",
                  "1435 Lake cook rd",
                  "deerfield",
                  "IL",
                  60015,
                  "product 14",
                  "123456789",
                  "k0w8Fi7pZ9qBTRLkmes2Rw==",
                  "idicustomer 14"
                ],
                [
                  "2020-02-26T17:56:32.256Z",
                  "idicustomer 9",
                  "1435 Lake cook rd",
                  "deerfield",
                  "IL",
                  60015,
                  "product 9",
                  "123456789",
                  "ME9pE9fLKKqvMR5AW/bDrA==",
                  "idicustomer 9"
                ],
                [
                  "2020-02-26T17:06:15.553Z",
                  "idicustomer 73",
                  "1435 Lake cook rd",
                  "deerfield",
                  "IL",
                  60015,
                  "product 73",
                  "123456789",
                  "1wRjCpN4aJQiIKSUTx6WXA==",
                  "idicustomer 73"
                ],
                [
                  "2020-02-26T15:52:21.536Z",
                  "idicustomer 34",
                  "1435 Lake cook rd",
                  "deerfield",
                  "IL",
                  60015,
                  "product 34",
                  "123456789",
                  "f4PvMBR4Ou6VAAYB0vM7Tw==",
                  "idicustomer 34"
                ],
                [
                  "2020-02-26T17:09:33.312Z",
                  "idicustomer 89",
                  "1435 Lake cook rd",
                  "deerfield",
                  "IL",
                  60015,
                  "product 89",
                  "123456789",
                  "rlJGPo0R30FNOwNC4D8m8w==",
                  "idicustomer 89"
                ],
                [
                  "2020-02-26T18:04:42.348Z",
                  "idicustomer 94",
                  "1435 Lake cook rd",
                  "deerfield",
                  "IL",
                  60015,
                  "product 94",
                  "123456789",
                  "R/ZUTkCSgIZLT//zf8v/xA==",
                  "idicustomer 94"
                ],
                [
                  "2020-02-26T16:24:29.833Z",
                  "idicustomer 69",
                  "1435 Lake cook rd",
                  "deerfield",
                  "IL",
                  60015,
                  "product 69",
                  "123456789",
                  "VhPzWkYJSn+2xTDSUQHx0w==",
                  "idicustomer 69"
                ],
                [
                  "2020-02-26T18:20:22.016Z",
                  "idicustomer 64",
                  "1435 Lake cook rd",
                  "deerfield",
                  "IL",
                  60015,
                  "product 64",
                  "123456789",
                  "s72TNWLXSnXtmem6L5Vzqw==",
                  "idicustomer 64"
                ],
                [
                  "2020-02-26T16:20:14.507Z",
                  "idicustomer 15",
                  "1435 Lake cook rd",
                  "deerfield",
                  "IL",
                  60015,
                  "product 15",
                  "123456789",
                  "fzkvR6m1HzQwlGDfBdPzLQ==",
                  "idicustomer 15"
                ],
                [
                  "2020-02-26T18:12:04.619Z",
                  "idicustomer 10",
                  "1435 Lake cook rd",
                  "deerfield",
                  "IL",
                  60015,
                  "product 10",
                  "123456789",
                  "rn+EvufrhTFsPtQn7FIFvg==",
                  "idicustomer 10"
                ],
                [
                  "2020-02-26T15:50:09.631Z",
                  "idicustomer 74",
                  "1435 Lake cook rd",
                  "deerfield",
                  "IL",
                  60015,
                  "product 74",
                  "123456789",
                  "jehzrCqvdAy9mJ/8KPN0KA==",
                  "idicustomer 74"
                ],
                [
                  "2020-02-26T17:47:50.346Z",
                  "idicustomer 35",
                  "1435 Lake cook rd",
                  "deerfield",
                  "IL",
                  60015,
                  "product 35",
                  "123456789",
                  "GZ6xJfF6vzW3WtSrqV8URQ==",
                  "idicustomer 35"
                ],
                [
                  "2020-02-26T17:21:35.473Z",
                  "idicustomer 90",
                  "1435 Lake cook rd",
                  "deerfield",
                  "IL",
                  60015,
                  "product 90",
                  "123456789",
                  "S0mbO84RJdrw7GzXjb891g==",
                  "idicustomer 90"
                ],
                [
                  "2020-02-26T18:19:31.881Z",
                  "idicustomer 95",
                  "1435 Lake cook rd",
                  "deerfield",
                  "IL",
                  60015,
                  "product 95",
                  "123456789",
                  "hpEvnI2wrqAqABuUyiRdSA==",
                  "idicustomer 95"
                ],
                [
                  "2020-02-26T16:35:35.885Z",
                  "idicustomer 70",
                  "1435 Lake cook rd",
                  "deerfield",
                  "IL",
                  60015,
                  "product 70",
                  "123456789",
                  "fhCnNgI99tWWSs49wNUYWw==",
                  "idicustomer 70"
                ],
                [
                  "2020-02-26T15:42:50.453Z",
                  "idicustomer 65",
                  "1435 Lake cook rd",
                  "deerfield",
                  "IL",
                  60015,
                  "product 65",
                  "123456789",
                  "7fW9DCLSJ+h5p4hvwuqPDg==",
                  "idicustomer 65"
                ],
                [
                  "2020-02-26T15:50:52.226Z",
                  "idicustomer 81",
                  "1435 Lake cook rd",
                  "deerfield",
                  "IL",
                  60015,
                  "product 81",
                  "123456789",
                  "qNftupqGM7KXfNwzdzotqQ==",
                  "idicustomer 81"
                ],
                [
                  "2020-02-26T15:42:46.921Z",
                  "idicustomer 26",
                  "1435 Lake cook rd",
                  "deerfield",
                  "IL",
                  60015,
                  "product 26",
                  "123456789",
                  "IiIplhjAQ/98MM/v/hxCTg==",
                  "idicustomer 26"
                ],
                [
                  "2020-02-26T17:25:15.583Z",
                  "idicustomer 75",
                  "1435 Lake cook rd",
                  "deerfield",
                  "IL",
                  60015,
                  "product 75",
                  "123456789",
                  "BqVnu6UaQQxBAkyaVsoCUw==",
                  "idicustomer 75"
                ],
                [
                  "2020-02-26T18:22:07.754Z",
                  "idicustomer 51",
                  "1435 Lake cook rd",
                  "deerfield",
                  "IL",
                  60015,
                  "product 51",
                  "123456789",
                  "TnUlawHunwzahcoEowE5Og==",
                  "idicustomer 51"
                ],
                [
                  "2020-02-26T16:38:43.974Z",
                  "idicustomer 56",
                  "1435 Lake cook rd",
                  "deerfield",
                  "IL",
                  60015,
                  "product 56",
                  "123456789",
                  "PyfeXFSsk+vOUxBFxf80Zw==",
                  "idicustomer 56"
                ],
                [
                  "2020-02-26T17:59:29.169Z",
                  "idicustomer 36",
                  "1435 Lake cook rd",
                  "deerfield",
                  "IL",
                  60015,
                  "product 36",
                  "123456789",
                  "UdT6q7Ba9ptAwOanNTLZEQ==",
                  "idicustomer 36"
                ],
                [
                  "2020-02-26T16:14:35.847Z",
                  "idicustomer 41",
                  "1435 Lake cook rd",
                  "deerfield",
                  "IL",
                  60015,
                  "product 41",
                  "123456789",
                  "9jqtnWd3wz7Cgox3jRNwxQ==",
                  "idicustomer 41"
                ],
                [
                  "2020-02-26T17:39:42.597Z",
                  "idicustomer 21",
                  "1435 Lake cook rd",
                  "deerfield",
                  "IL",
                  60015,
                  "product 21",
                  "123456789",
                  "tm8b2p5/ooIOpXpd3Bk0cg==",
                  "idicustomer 21"
                ],
                [
                  "2020-02-26T16:01:55.142Z",
                  "idicustomer 82",
                  "1435 Lake cook rd",
                  "deerfield",
                  "IL",
                  60015,
                  "product 82",
                  "123456789",
                  "5qmKwANlhRqjzkG3X4enew==",
                  "idicustomer 82"
                ],
                [
                  "2020-02-26T16:13:54.132Z",
                  "idicustomer 27",
                  "1435 Lake cook rd",
                  "deerfield",
                  "IL",
                  60015,
                  "product 27",
                  "123456789",
                  "MBvsvjdjrUBntTpyDmLegw==",
                  "idicustomer 27"
                ],
                [
                  "2020-02-26T16:14:15.139Z",
                  "idicustomer 1",
                  "1435 Lake cook rd",
                  "deerfield",
                  "IL",
                  60015,
                  "product 1",
                  "123456789",
                  "dZP1VHn4d43E56SVYKRFZQ==",
                  "idicustomer 1"
                ],
                [
                  "2020-02-26T15:48:37.241Z",
                  "idicustomer 52",
                  "1435 Lake cook rd",
                  "deerfield",
                  "IL",
                  60015,
                  "product 52",
                  "123456789",
                  "QT6u3zMS1GRh3aP6f97Gtw==",
                  "idicustomer 52"
                ],
                [
                  "2020-02-26T15:41:18.437Z",
                  "idicustomer 57",
                  "1435 Lake cook rd",
                  "deerfield",
                  "IL",
                  60015,
                  "product 57",
                  "123456789",
                  "IuA4aEVcJNVYSXfhmW93Aw==",
                  "idicustomer 57"
                ],
                [
                  "2020-02-26T15:42:10.931Z",
                  "idicustomer 37",
                  "1435 Lake cook rd",
                  "deerfield",
                  "IL",
                  60015,
                  "product 37",
                  "123456789",
                  "5ZxhwVRrj2IMQyz6Sf0Pyg==",
                  "idicustomer 37"
                ],
                [
                  "2020-02-26T16:25:47.371Z",
                  "idicustomer 42",
                  "1435 Lake cook rd",
                  "deerfield",
                  "IL",
                  60015,
                  "product 42",
                  "123456789",
                  "dTy/v2K9KmXc+rsH1S1G2Q==",
                  "idicustomer 42"
                ],
                [
                  "2020-02-26T17:51:43.394Z",
                  "idicustomer 22",
                  "1435 Lake cook rd",
                  "deerfield",
                  "IL",
                  60015,
                  "product 22",
                  "123456789",
                  "SRQqy1cKyDGoND+j7FXgAA==",
                  "idicustomer 22"
                ],
                [
                  "2020-02-26T16:11:52.374Z",
                  "idicustomer 83",
                  "1435 Lake cook rd",
                  "deerfield",
                  "IL",
                  60015,
                  "product 83",
                  "123456789",
                  "iUGouPT3YeXRfkKVmXV7wA==",
                  "idicustomer 83"
                ],
                [
                  "2020-02-26T16:23:11.711Z",
                  "idicustomer 28",
                  "1435 Lake cook rd",
                  "deerfield",
                  "IL",
                  60015,
                  "product 28",
                  "123456789",
                  "q3FdGoInV5wEiHgQIweeKQ==",
                  "idicustomer 28"
                ],
                [
                  "2020-02-26T15:45:04.784Z",
                  "idicustomer 2",
                  "1435 Lake cook rd",
                  "deerfield",
                  "IL",
                  60015,
                  "product 2",
                  "123456789",
                  "G3mxd2lYd/mw2Nbjbrmq8A==",
                  "idicustomer 2"
                ],
                [
                  "2020-02-26T15:59:47.648Z",
                  "idicustomer 53",
                  "1435 Lake cook rd",
                  "deerfield",
                  "IL",
                  60015,
                  "product 53",
                  "123456789",
                  "1iJWYSftif3pl3yLZ3M2Fw==",
                  "idicustomer 53"
                ],
                [
                  "2020-02-26T16:58:02.416Z",
                  "idicustomer 58",
                  "1435 Lake cook rd",
                  "deerfield",
                  "IL",
                  60015,
                  "product 58",
                  "123456789",
                  "uvhkMQU4oq7HeT6zyHMSkQ==",
                  "idicustomer 58"
                ],
                [
                  "2020-02-26T15:41:35.142Z",
                  "idicustomer 38",
                  "1435 Lake cook rd",
                  "deerfield",
                  "IL",
                  60015,
                  "product 38",
                  "123456789",
                  "qowN18f2bBo6tiwpVEdIMw==",
                  "idicustomer 38"
                ],
                [
                  "2020-02-26T16:35:47.027Z",
                  "idicustomer 43",
                  "1435 Lake cook rd",
                  "deerfield",
                  "IL",
                  60015,
                  "product 43",
                  "123456789",
                  "EBO91HXX/Cienpmt2oP3fQ==",
                  "idicustomer 43"
                ],
                [
                  "2020-02-26T18:14:13.166Z",
                  "idicustomer 23",
                  "1435 Lake cook rd",
                  "deerfield",
                  "IL",
                  60015,
                  "product 23",
                  "123456789",
                  "38cuwStIR3I/D9shQpj+vw==",
                  "idicustomer 23"
                ],
                [
                  "2020-02-26T15:44:54.207Z",
                  "idicustomer 84",
                  "1435 Lake cook rd",
                  "deerfield",
                  "IL",
                  60015,
                  "product 84",
                  "123456789",
                  "AXq1YE+lZ2yJyJn5KyMWAg==",
                  "idicustomer 84"
                ],
                [
                  "2020-02-26T16:32:37.013Z",
                  "idicustomer 29",
                  "1435 Lake cook rd",
                  "deerfield",
                  "IL",
                  60015,
                  "product 29",
                  "123456789",
                  "RyN25X4JIkh3vY+QaLSq5g==",
                  "idicustomer 29"
                ],
                [
                  "2020-02-26T16:34:59.029Z",
                  "idicustomer 3",
                  "1435 Lake cook rd",
                  "deerfield",
                  "IL",
                  60015,
                  "product 3",
                  "123456789",
                  "mWk69vvaaH3PrK7jAQVL5Q==",
                  "idicustomer 3"
                ],
                [
                  "2020-02-26T16:09:54.919Z",
                  "idicustomer 54",
                  "1435 Lake cook rd",
                  "deerfield",
                  "IL",
                  60015,
                  "product 54",
                  "123456789",
                  "NTe5P4jrJ4rhLMn84bS5DA==",
                  "idicustomer 54"
                ],
                [
                  "2020-02-26T17:07:32.957Z",
                  "idicustomer 59",
                  "1435 Lake cook rd",
                  "deerfield",
                  "IL",
                  60015,
                  "product 59",
                  "123456789",
                  "XcJvGtCEqJ8dqGKOzDS9kg==",
                  "idicustomer 59"
                ],
                [
                  "2020-02-26T15:52:05.154Z",
                  "idicustomer 39",
                  "1435 Lake cook rd",
                  "deerfield",
                  "IL",
                  60015,
                  "product 39",
                  "123456789",
                  "0lGyegxdRmGfzjBZfMUznA==",
                  "idicustomer 39"
                ],
                [
                  "2020-02-26T15:47:13.975Z",
                  "idicustomer 44",
                  "1435 Lake cook rd",
                  "deerfield",
                  "IL",
                  60015,
                  "product 44",
                  "123456789",
                  "TPHc6Z6GBCW2oo0xgZ81Gw==",
                  "idicustomer 44"
                ],
                [
                  "2020-02-26T18:25:31.832Z",
                  "idicustomer 24",
                  "1435 Lake cook rd",
                  "deerfield",
                  "IL",
                  60015,
                  "product 24",
                  "123456789",
                  "YFsBA7iigRjZ+zkQFR2QQA==",
                  "idicustomer 24"
                ],
                [
                  "2020-02-26T16:32:05.287Z",
                  "idicustomer 85",
                  "1435 Lake cook rd",
                  "deerfield",
                  "IL",
                  60015,
                  "product 85",
                  "123456789",
                  "nB8ybutIMwqwVGc5/6NH5g==",
                  "idicustomer 85"
                ],
                [
                  "2020-02-26T16:54:18.789Z",
                  "idicustomer 30",
                  "1435 Lake cook rd",
                  "deerfield",
                  "IL",
                  60015,
                  "product 30",
                  "123456789",
                  "ZCEg25eLlqIttpzpMGnzBA==",
                  "idicustomer 30"
                ],
                [
                  "2020-02-26T15:47:07.735Z",
                  "idicustomer 4",
                  "1435 Lake cook rd",
                  "deerfield",
                  "IL",
                  60015,
                  "product 4",
                  "123456789",
                  "F+OGbJfH8FQw1T7VhHettg==",
                  "idicustomer 4"
                ],
                [
                  "2020-02-26T16:28:01.964Z",
                  "idicustomer 55",
                  "1435 Lake cook rd",
                  "deerfield",
                  "IL",
                  60015,
                  "product 55",
                  "123456789",
                  "r9WjP0pYoHYjeTgpgsw3FA==",
                  "idicustomer 55"
                ],
                [
                  "2020-02-26T17:20:21.725Z",
                  "idicustomer 60",
                  "1435 Lake cook rd",
                  "deerfield",
                  "IL",
                  60015,
                  "product 60",
                  "123456789",
                  "J1eUYJtaZgefWqHkVDTJwQ==",
                  "idicustomer 60"
                ],
                [
                  "2020-02-26T16:04:48.088Z",
                  "idicustomer 40",
                  "1435 Lake cook rd",
                  "deerfield",
                  "IL",
                  60015,
                  "product 40",
                  "123456789",
                  "nlrACLFv1lk82Li93sfZrQ==",
                  "idicustomer 40"
                ],
                [
                  "2020-02-26T16:56:04.981Z",
                  "idicustomer 45",
                  "1435 Lake cook rd",
                  "deerfield",
                  "IL",
                  60015,
                  "product 45",
                  "123456789",
                  "GSghECAlkt7yj2ZW6oOm9A==",
                  "idicustomer 45"
                ],
                [
                  "2020-02-26T15:48:13.366Z",
                  "idicustomer 25",
                  "1435 Lake cook rd",
                  "deerfield",
                  "IL",
                  60015,
                  "product 25",
                  "123456789",
                  "g9WDAxj0TNdl8eWIpmnoxQ==",
                  "idicustomer 25"
                ],
                [
                  "2020-02-26T17:34:46.592Z",
                  "idicustomer 76",
                  "1435 Lake cook rd",
                  "deerfield",
                  "IL",
                  60015,
                  "product 76",
                  "123456789",
                  "bq6QLObSR0Z+gsP3n2ab5g==",
                  "idicustomer 76"
                ],
                [
                  "2020-02-26T15:53:42.972Z",
                  "idicustomer 96",
                  "1435 Lake cook rd",
                  "deerfield",
                  "IL",
                  60015,
                  "product 96",
                  "123456789",
                  "mYjOsNgw4yZNbBw1cnYJVA==",
                  "idicustomer 96"
                ],
                [
                  "2020-02-26T17:02:12.471Z",
                  "idicustomer 5",
                  "1435 Lake cook rd",
                  "deerfield",
                  "IL",
                  60015,
                  "product 5",
                  "123456789",
                  "YTOhfE09V9IkEgMSf/OKiQ==",
                  "idicustomer 5"
                ],
                [
                  "2020-02-26T17:14:05.482Z",
                  "idicustomer 46",
                  "1435 Lake cook rd",
                  "deerfield",
                  "IL",
                  60015,
                  "product 46",
                  "123456789",
                  "K4078GHOK2LAl0vQOuFxHA==",
                  "idicustomer 46"
                ],
                [
                  "2020-02-26T16:38:35.237Z",
                  "idicustomer 16",
                  "1435 Lake cook rd",
                  "deerfield",
                  "IL",
                  60015,
                  "product 16",
                  "123456789",
                  "7u+2VxvY5a0c0c10HbY0kA==",
                  "idicustomer 16"
                ],
                [
                  "2020-02-26T17:46:02.749Z",
                  "idicustomer 77",
                  "1435 Lake cook rd",
                  "deerfield",
                  "IL",
                  60015,
                  "product 77",
                  "123456789",
                  "upZHjhUK0WfWmKrBO9MZZw==",
                  "idicustomer 77"
                ],
                [
                  "2020-02-26T16:04:56.891Z",
                  "idicustomer 97",
                  "1435 Lake cook rd",
                  "deerfield",
                  "IL",
                  60015,
                  "product 97",
                  "123456789",
                  "DFQ7Gs7sEa/gPLSN3bZ3BA==",
                  "idicustomer 97"
                ],
                [
                  "2020-02-26T17:27:32.955Z",
                  "idicustomer 47",
                  "1435 Lake cook rd",
                  "deerfield",
                  "IL",
                  60015,
                  "product 47",
                  "123456789",
                  "kCewlRmUO5w/kQCfHOFJgA==",
                  "idicustomer 47"
                ],
                [
                  "2020-02-26T16:57:03.814Z",
                  "idicustomer 17",
                  "1435 Lake cook rd",
                  "deerfield",
                  "IL",
                  60015,
                  "product 17",
                  "123456789",
                  "PPocXrmz3gdUN7xq3+Hh5A==",
                  "idicustomer 17"
                ],
                [
                  "2020-02-26T15:55:03.277Z",
                  "idicustomer 78",
                  "1435 Lake cook rd",
                  "deerfield",
                  "IL",
                  60015,
                  "product 78",
                  "123456789",
                  "mC+e1vOvlMS1HHxBVGcd3g==",
                  "idicustomer 78"
                ],
                [
                  "2020-02-26T15:44:02.202Z",
                  "idicustomer 98",
                  "1435 Lake cook rd",
                  "deerfield",
                  "IL",
                  60015,
                  "product 98",
                  "123456789",
                  "ntGOmP6AijQKkNSgKmMhpA==",
                  "idicustomer 98"
                ],
                [
                  "2020-02-26T17:47:55.224Z",
                  "idicustomer 48",
                  "1435 Lake cook rd",
                  "deerfield",
                  "IL",
                  60015,
                  "product 48",
                  "123456789",
                  "6sOpb3cRsdQ7a1P5vHkOGg==",
                  "idicustomer 48"
                ],
                [
                  "2020-02-26T17:10:12.073Z",
                  "idicustomer 18",
                  "1435 Lake cook rd",
                  "deerfield",
                  "IL",
                  60015,
                  "product 18",
                  "123456789",
                  "uwr9V/3scwgKxbPhe4HOLQ==",
                  "idicustomer 18"
                ],
                [
                  "2020-02-26T18:14:24.266Z",
                  "idicustomer 79",
                  "1435 Lake cook rd",
                  "deerfield",
                  "IL",
                  60015,
                  "product 79",
                  "123456789",
                  "7JCsmB3a3u5ZgXwTgU/c/Q==",
                  "idicustomer 79"
                ],
                [
                  "2020-02-26T16:23:12.831Z",
                  "idicustomer 99",
                  "1435 Lake cook rd",
                  "deerfield",
                  "IL",
                  60015,
                  "product 99",
                  "123456789",
                  "qPF+kX4mIMsPp0vaOmkGlQ==",
                  "idicustomer 99"
                ],
                [
                  "2020-02-26T17:59:25.095Z",
                  "idicustomer 49",
                  "1435 Lake cook rd",
                  "deerfield",
                  "IL",
                  60015,
                  "product 49",
                  "123456789",
                  "NLkOgcq0+uLrNIwOiuD9UQ==",
                  "idicustomer 49"
                ],
                [
                  "2020-02-26T17:19:57.264Z",
                  "idicustomer 19",
                  "1435 Lake cook rd",
                  "deerfield",
                  "IL",
                  60015,
                  "product 19",
                  "123456789",
                  "Vz23axR4Dex1/QxfXboSVQ==",
                  "idicustomer 19"
                ],
                [
                  "2020-02-26T15:41:05.195Z",
                  "idicustomer 80",
                  "1435 Lake cook rd",
                  "deerfield",
                  "IL",
                  60015,
                  "product 80",
                  "123456789",
                  "3M6hI73pIFhfNFCqW6D3Jw==",
                  "idicustomer 80"
                ],
                [
                  "2020-02-26T18:08:48.818Z",
                  "idicustomer 50",
                  "1435 Lake cook rd",
                  "deerfield",
                  "IL",
                  60015,
                  "product 50",
                  "123456789",
                  "GPAUu8knIUKMrkl8DTZ+QA==",
                  "idicustomer 50"
                ],
                [
                  "2020-02-26T17:29:52.456Z",
                  "idicustomer 20",
                  "1435 Lake cook rd",
                  "deerfield",
                  "IL",
                  60015,
                  "product 20",
                  "123456789",
                  "PeoNrAbA87eN/+3A0TDO/g==",
                  "idicustomer 20"
                ]
              ],
              "schema": [
                "eventdatetime",
                "customername",
                "address",
                "city",
                "state",
                "zip",
                "productname",
                "key",
                "encryptedcust",
                "deencryptedcust"
              ]
            }
          },
          "execution_count": 32,
          "metadata": {},
          "output_type": "execute_result"
        }
      ],
      "source": [
        "display(df5)"
      ]
    },
    {
      "cell_type": "code",
      "execution_count": null,
      "metadata": {},
      "outputs": [],
      "source": []
    }
  ],
  "metadata": {
    "language_info": {
      "name": "scala"
    },
    "saveOutput": true
  },
  "nbformat": 4,
  "nbformat_minor": 2
}
